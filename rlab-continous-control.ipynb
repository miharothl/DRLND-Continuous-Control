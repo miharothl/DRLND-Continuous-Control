{
 "cells": [
  {
   "cell_type": "markdown",
   "metadata": {},
   "source": [
    "# Continuous Control"
   ]
  },
  {
   "cell_type": "code",
   "execution_count": 1,
   "metadata": {},
   "outputs": [],
   "source": [
    "%matplotlib inline\n",
    "\n",
    "from drl import drl_logger, EPOCH, EPISODE, STEP\n",
    "from drl.experiment.analyser import Analyzer\n",
    "from drl.experiment.configuration import Configuration\n",
    "from drl.experiment.experiment import Experiment\n",
    "from drl.experiment.config.experiment_config import ExperimentConfig\n",
    "from drl.experiment.explorer import Explorer\n",
    "from drl.logging import init_logging, set_logging_level, transform_verbose_count_to_logging_level"
   ]
  },
  {
   "cell_type": "code",
   "execution_count": 2,
   "metadata": {},
   "outputs": [],
   "source": [
    "init_logging(EPISODE)"
   ]
  },
  {
   "cell_type": "markdown",
   "metadata": {},
   "source": [
    "## Training Parameters"
   ]
  },
  {
   "cell_type": "code",
   "execution_count": 3,
   "metadata": {},
   "outputs": [],
   "source": [
    "config = Configuration()\n",
    "config.set_current_exp_cfg(\"reacher-multiple-linux\")"
   ]
  },
  {
   "cell_type": "markdown",
   "metadata": {},
   "source": [
    "### Agent"
   ]
  },
  {
   "cell_type": "code",
   "execution_count": 4,
   "metadata": {},
   "outputs": [
    {
     "name": "stdout",
     "output_type": "stream",
     "text": [
      "Action Size: 4\n",
      "State Size:  33\n"
     ]
    }
   ],
   "source": [
    "cfg = config.get_current_exp_cfg()\n",
    "\n",
    "print(\"Action Size: {}\".format(cfg.agent_cfg.action_size))\n",
    "print(\"State Size:  {}\".format(cfg.agent_cfg.state_size))"
   ]
  },
  {
   "cell_type": "markdown",
   "metadata": {},
   "source": [
    "### Hyper Parameters \n",
    "\n",
    "#### Epoch Configuration"
   ]
  },
  {
   "cell_type": "code",
   "execution_count": 5,
   "metadata": {},
   "outputs": [
    {
     "name": "stdout",
     "output_type": "stream",
     "text": [
      "Max Steps:            300000\n",
      "Max Episode Steps:    1000\n",
      "Evaluation Frequency: 10000\n",
      "Evaluation Steps:     2000\n"
     ]
    }
   ],
   "source": [
    "print(\"Max Steps:            {}\".format(cfg.trainer_cfg.max_steps))\n",
    "print(\"Max Episode Steps:    {}\".format(cfg.trainer_cfg.max_episode_steps))\n",
    "print(\"Evaluation Frequency: {}\".format(cfg.trainer_cfg.eval_frequency))\n",
    "print(\"Evaluation Steps:     {}\".format(cfg.trainer_cfg.eval_steps))"
   ]
  },
  {
   "cell_type": "markdown",
   "metadata": {},
   "source": [
    "One Epoch contains:\n",
    "\n",
    "* number of training episodes = evaluation frequency / max episode steps\n",
    "* number of validation episoded = evaluatin steps / max episode steps"
   ]
  },
  {
   "cell_type": "code",
   "execution_count": 6,
   "metadata": {},
   "outputs": [
    {
     "name": "stdout",
     "output_type": "stream",
     "text": [
      "Number of training episodes in epoch:   10\n",
      "Number of validation episodes in epoch: 2\n"
     ]
    }
   ],
   "source": [
    "print(\"Number of training episodes in epoch:   {}\".format(int(cfg.trainer_cfg.eval_frequency/cfg.trainer_cfg.max_episode_steps)))\n",
    "print(\"Number of validation episodes in epoch: {}\".format(int(cfg.trainer_cfg.eval_steps/cfg.trainer_cfg.max_episode_steps)))"
   ]
  },
  {
   "cell_type": "code",
   "execution_count": 7,
   "metadata": {},
   "outputs": [
    {
     "name": "stdout",
     "output_type": "stream",
     "text": [
      "RL Algorithm:         ddpg\n",
      "Epsilon Start:        1.0\n",
      "Epsilon End:          0.1\n",
      "Epsilon Decay:        0.97\n",
      "Actor Learning Rate:  0.0001\n",
      "Critic Learning Rate: 0.0003\n",
      "Weight Decay:         0\n"
     ]
    }
   ],
   "source": [
    "print(\"RL Algorithm:         {}\".format(cfg.reinforcement_learning_cfg.algorithm_type))\n",
    "print(\"Epsilon Start:        {}\".format(cfg.reinforcement_learning_cfg.ddpg_cfg.epsilon_start))\n",
    "print(\"Epsilon End:          {}\".format(cfg.reinforcement_learning_cfg.ddpg_cfg.epsilon_end))\n",
    "print(\"Epsilon Decay:        {}\".format(cfg.reinforcement_learning_cfg.ddpg_cfg.epsilon_decay))\n",
    "print(\"Actor Learning Rate:  {}\".format(cfg.reinforcement_learning_cfg.ddpg_cfg.lr_actor))\n",
    "print(\"Critic Learning Rate: {}\".format(cfg.reinforcement_learning_cfg.ddpg_cfg.lr_critic))\n",
    "print(\"Weight Decay:         {}\".format(cfg.reinforcement_learning_cfg.ddpg_cfg.weight_decay))"
   ]
  },
  {
   "cell_type": "markdown",
   "metadata": {},
   "source": [
    "#### Neural Network Configuration"
   ]
  },
  {
   "cell_type": "code",
   "execution_count": 8,
   "metadata": {},
   "outputs": [
    {
     "name": "stdout",
     "output_type": "stream",
     "text": [
      "Actor Hidden Layers Units:  [256, 128]\n",
      "Critic Hidden Layers Units: [256, 128]\n"
     ]
    }
   ],
   "source": [
    "print(\"Actor Hidden Layers Units:  {}\".format(cfg.reinforcement_learning_cfg.ddpg_cfg.actor_model_cfg.hidden_layers))\n",
    "print(\"Critic Hidden Layers Units: {}\".format(cfg.reinforcement_learning_cfg.ddpg_cfg.critic_model_cfg.hidden_layers))"
   ]
  },
  {
   "cell_type": "markdown",
   "metadata": {},
   "source": [
    "#### Replay Memory"
   ]
  },
  {
   "cell_type": "code",
   "execution_count": 9,
   "metadata": {},
   "outputs": [
    {
     "name": "stdout",
     "output_type": "stream",
     "text": [
      "Buffer Size:              100000\n",
      "Use Prioritized Replay:   False\n"
     ]
    }
   ],
   "source": [
    "print(\"Buffer Size:              {}\".format(cfg.replay_memory_cfg.buffer_size))\n",
    "print(\"Use Prioritized Replay:   {}\".format(cfg.replay_memory_cfg.prioritized_replay))"
   ]
  },
  {
   "cell_type": "markdown",
   "metadata": {},
   "source": [
    "## Training"
   ]
  },
  {
   "cell_type": "code",
   "execution_count": 10,
   "metadata": {},
   "outputs": [],
   "source": [
    "experiment = Experiment(config)"
   ]
  },
  {
   "cell_type": "code",
   "execution_count": 11,
   "metadata": {
    "collapsed": true,
    "jupyter": {
     "outputs_hidden": true
    }
   },
   "outputs": [
    {
     "name": "stdout",
     "output_type": "stream",
     "text": [
      "2020-09-24 18:00:53,865 - drl - INFO - Initializing environment.' - {'name': 'env/unity/linux/reacher-multiple-agent-novis/Reacher.x86_64'}\n"
     ]
    },
    {
     "name": "stderr",
     "output_type": "stream",
     "text": [
      "INFO:unityagents:\n",
      "'Academy' started successfully!\n",
      "Unity Academy name: Academy\n",
      "        Number of Brains: 1\n",
      "        Number of External Brains : 1\n",
      "        Lesson number : 0\n",
      "        Reset Parameters :\n",
      "\t\tgoal_speed -> 1.0\n",
      "\t\tgoal_size -> 5.0\n",
      "Unity brain name: ReacherBrain\n",
      "        Number of Visual Observations (per agent): 0\n",
      "        Vector Observation space type: continuous\n",
      "        Vector Observation space size (per agent): 33\n",
      "        Number of stacked Vector Observation: 1\n",
      "        Vector Action space type: continuous\n",
      "        Vector Action space size (per agent): 4\n",
      "        Vector Action descriptions: , , , \n"
     ]
    },
    {
     "name": "stdout",
     "output_type": "stream",
     "text": [
      "2020-09-24 18:02:21,182 - drl - EPISODE - Train. - {'step': 1000, 'episode': 0, 'epoch': 0, 'epoch_step': 1000, 'epoch_episode': 1, 'episode_step': 999, 'score': '1.098', 'eps': '1.000', 'elapsed': '87s'}\n",
      "2020-09-24 18:03:48,364 - drl - EPISODE - Train. - {'step': 2000, 'episode': 1, 'epoch': 0, 'epoch_step': 2000, 'epoch_episode': 2, 'episode_step': 999, 'score': '1.059', 'eps': '0.970', 'elapsed': '87s'}\n",
      "2020-09-24 18:05:16,082 - drl - EPISODE - Train. - {'step': 3000, 'episode': 2, 'epoch': 0, 'epoch_step': 3000, 'epoch_episode': 3, 'episode_step': 999, 'score': '1.462', 'eps': '0.941', 'elapsed': '88s'}\n",
      "2020-09-24 18:06:43,545 - drl - EPISODE - Train. - {'step': 4000, 'episode': 3, 'epoch': 0, 'epoch_step': 4000, 'epoch_episode': 4, 'episode_step': 999, 'score': '1.910', 'eps': '0.913', 'elapsed': '87s'}\n",
      "2020-09-24 18:08:11,301 - drl - EPISODE - Train. - {'step': 5000, 'episode': 4, 'epoch': 0, 'epoch_step': 5000, 'epoch_episode': 5, 'episode_step': 999, 'score': '1.953', 'eps': '0.885', 'elapsed': '88s'}\n",
      "2020-09-24 18:09:39,217 - drl - EPISODE - Train. - {'step': 6000, 'episode': 5, 'epoch': 0, 'epoch_step': 6000, 'epoch_episode': 6, 'episode_step': 999, 'score': '3.415', 'eps': '0.859', 'elapsed': '88s'}\n",
      "2020-09-24 18:11:06,431 - drl - EPISODE - Train. - {'step': 7000, 'episode': 6, 'epoch': 0, 'epoch_step': 7000, 'epoch_episode': 7, 'episode_step': 999, 'score': '3.720', 'eps': '0.833', 'elapsed': '87s'}\n",
      "2020-09-24 18:12:33,855 - drl - EPISODE - Train. - {'step': 8000, 'episode': 7, 'epoch': 0, 'epoch_step': 8000, 'epoch_episode': 8, 'episode_step': 999, 'score': '4.379', 'eps': '0.808', 'elapsed': '87s'}\n",
      "2020-09-24 18:14:01,559 - drl - EPISODE - Train. - {'step': 9000, 'episode': 8, 'epoch': 0, 'epoch_step': 9000, 'epoch_episode': 9, 'episode_step': 999, 'score': '5.805', 'eps': '0.784', 'elapsed': '88s'}\n",
      "2020-09-24 18:15:29,953 - drl - EPISODE - Train. - {'step': 10000, 'episode': 9, 'epoch': 0, 'epoch_step': 10000, 'epoch_episode': 10, 'episode_step': 999, 'score': '6.044', 'eps': '0.760', 'elapsed': '88s'}\n",
      "2020-09-24 18:16:49,479 - drl - EPISODE - Validate. - {'epoch': 0, 'epoch_step': 1000, 'epoch_episode': 1, 'episode_step': 999, 'score': '5.199', 'eps': '0.737', 'elapsed': '80s'}\n",
      "2020-09-24 18:18:09,032 - drl - EPISODE - Validate. - {'epoch': 0, 'epoch_step': 2000, 'epoch_episode': 2, 'episode_step': 999, 'score': '5.529', 'eps': '0.737', 'elapsed': '80s'}\n",
      "2020-09-24 18:18:09,033 - drl - EPOCH - Epoch. - {'epoch': 0, 'mean score': 3.084599931053817, 'mean val score': 5.363999880105257, 'eps': '0.737', 'elapsed': '1035s'}\n",
      "2020-09-24 18:19:37,073 - drl - EPISODE - Train. - {'step': 11000, 'episode': 10, 'epoch': 1, 'epoch_step': 1000, 'epoch_episode': 1, 'episode_step': 999, 'score': '6.441', 'eps': '0.737', 'elapsed': '88s'}\n",
      "2020-09-24 18:21:04,191 - drl - EPISODE - Train. - {'step': 12000, 'episode': 11, 'epoch': 1, 'epoch_step': 2000, 'epoch_episode': 2, 'episode_step': 999, 'score': '10.337', 'eps': '0.715', 'elapsed': '87s'}\n",
      "2020-09-24 18:22:31,287 - drl - EPISODE - Train. - {'step': 13000, 'episode': 12, 'epoch': 1, 'epoch_step': 3000, 'epoch_episode': 3, 'episode_step': 999, 'score': '11.932', 'eps': '0.694', 'elapsed': '87s'}\n",
      "2020-09-24 18:23:58,475 - drl - EPISODE - Train. - {'step': 14000, 'episode': 13, 'epoch': 1, 'epoch_step': 4000, 'epoch_episode': 4, 'episode_step': 999, 'score': '17.232', 'eps': '0.673', 'elapsed': '87s'}\n",
      "2020-09-24 18:25:26,949 - drl - EPISODE - Train. - {'step': 15000, 'episode': 14, 'epoch': 1, 'epoch_step': 5000, 'epoch_episode': 5, 'episode_step': 999, 'score': '19.738', 'eps': '0.653', 'elapsed': '88s'}\n",
      "2020-09-24 18:26:54,766 - drl - EPISODE - Train. - {'step': 16000, 'episode': 15, 'epoch': 1, 'epoch_step': 6000, 'epoch_episode': 6, 'episode_step': 999, 'score': '19.262', 'eps': '0.633', 'elapsed': '88s'}\n",
      "2020-09-24 18:28:22,018 - drl - EPISODE - Train. - {'step': 17000, 'episode': 16, 'epoch': 1, 'epoch_step': 7000, 'epoch_episode': 7, 'episode_step': 999, 'score': '22.604', 'eps': '0.614', 'elapsed': '87s'}\n",
      "2020-09-24 18:29:49,164 - drl - EPISODE - Train. - {'step': 18000, 'episode': 17, 'epoch': 1, 'epoch_step': 8000, 'epoch_episode': 8, 'episode_step': 999, 'score': '24.504', 'eps': '0.596', 'elapsed': '87s'}\n",
      "2020-09-24 18:31:16,644 - drl - EPISODE - Train. - {'step': 19000, 'episode': 18, 'epoch': 1, 'epoch_step': 9000, 'epoch_episode': 9, 'episode_step': 999, 'score': '24.781', 'eps': '0.578', 'elapsed': '87s'}\n",
      "2020-09-24 18:32:44,233 - drl - EPISODE - Train. - {'step': 20000, 'episode': 19, 'epoch': 1, 'epoch_step': 10000, 'epoch_episode': 10, 'episode_step': 999, 'score': '27.614', 'eps': '0.561', 'elapsed': '88s'}\n",
      "2020-09-24 18:34:03,759 - drl - EPISODE - Validate. - {'epoch': 1, 'epoch_step': 1000, 'epoch_episode': 1, 'episode_step': 999, 'score': '30.364', 'eps': '0.544', 'elapsed': '80s'}\n",
      "2020-09-24 18:35:23,298 - drl - EPISODE - Validate. - {'epoch': 1, 'epoch_step': 2000, 'epoch_episode': 2, 'episode_step': 999, 'score': '30.859', 'eps': '0.544', 'elapsed': '80s'}\n",
      "2020-09-24 18:35:23,300 - drl - EPOCH - Epoch. - {'epoch': 1, 'mean score': 10.764724759389647, 'mean val score': 30.61174931577407, 'eps': '0.544', 'elapsed': '1034s'}\n",
      "2020-09-24 18:36:51,025 - drl - EPISODE - Train. - {'step': 21000, 'episode': 20, 'epoch': 2, 'epoch_step': 1000, 'epoch_episode': 1, 'episode_step': 999, 'score': '31.602', 'eps': '0.544', 'elapsed': '88s'}\n",
      "2020-09-24 18:38:17,906 - drl - EPISODE - Train. - {'step': 22000, 'episode': 21, 'epoch': 2, 'epoch_step': 2000, 'epoch_episode': 2, 'episode_step': 999, 'score': '30.930', 'eps': '0.527', 'elapsed': '87s'}\n",
      "2020-09-24 18:39:45,250 - drl - EPISODE - Train. - {'step': 23000, 'episode': 22, 'epoch': 2, 'epoch_step': 3000, 'epoch_episode': 3, 'episode_step': 999, 'score': '32.784', 'eps': '0.512', 'elapsed': '87s'}\n",
      "2020-09-24 18:41:11,937 - drl - EPISODE - Train. - {'step': 24000, 'episode': 23, 'epoch': 2, 'epoch_step': 4000, 'epoch_episode': 4, 'episode_step': 999, 'score': '32.887', 'eps': '0.496', 'elapsed': '87s'}\n",
      "2020-09-24 18:42:40,035 - drl - EPISODE - Train. - {'step': 25000, 'episode': 24, 'epoch': 2, 'epoch_step': 5000, 'epoch_episode': 5, 'episode_step': 999, 'score': '33.272', 'eps': '0.481', 'elapsed': '88s'}\n",
      "2020-09-24 18:44:07,645 - drl - EPISODE - Train. - {'step': 26000, 'episode': 25, 'epoch': 2, 'epoch_step': 6000, 'epoch_episode': 6, 'episode_step': 999, 'score': '36.956', 'eps': '0.467', 'elapsed': '88s'}\n",
      "2020-09-24 18:45:35,154 - drl - EPISODE - Train. - {'step': 27000, 'episode': 26, 'epoch': 2, 'epoch_step': 7000, 'epoch_episode': 7, 'episode_step': 999, 'score': '38.570', 'eps': '0.453', 'elapsed': '88s'}\n",
      "2020-09-24 18:47:02,359 - drl - EPISODE - Train. - {'step': 28000, 'episode': 27, 'epoch': 2, 'epoch_step': 8000, 'epoch_episode': 8, 'episode_step': 999, 'score': '37.829', 'eps': '0.439', 'elapsed': '87s'}\n",
      "2020-09-24 18:48:30,016 - drl - EPISODE - Train. - {'step': 29000, 'episode': 28, 'epoch': 2, 'epoch_step': 9000, 'epoch_episode': 9, 'episode_step': 999, 'score': '38.348', 'eps': '0.426', 'elapsed': '88s'}\n",
      "2020-09-24 18:49:57,466 - drl - EPISODE - Train. - {'step': 30000, 'episode': 29, 'epoch': 2, 'epoch_step': 10000, 'epoch_episode': 10, 'episode_step': 999, 'score': '38.418', 'eps': '0.413', 'elapsed': '87s'}\n",
      "2020-09-24 18:51:16,993 - drl - EPISODE - Validate. - {'epoch': 2, 'epoch_step': 1000, 'epoch_episode': 1, 'episode_step': 999, 'score': '35.167', 'eps': '0.401', 'elapsed': '80s'}\n",
      "2020-09-24 18:52:36,529 - drl - EPISODE - Validate. - {'epoch': 2, 'epoch_step': 2000, 'epoch_episode': 2, 'episode_step': 999, 'score': '37.173', 'eps': '0.401', 'elapsed': '80s'}\n",
      "2020-09-24 18:52:36,530 - drl - EPOCH - Epoch. - {'epoch': 2, 'mean score': 18.896399577632547, 'mean val score': 36.17024919153191, 'eps': '0.401', 'elapsed': '1033s'}\n",
      "2020-09-24 18:54:04,356 - drl - EPISODE - Train. - {'step': 31000, 'episode': 30, 'epoch': 3, 'epoch_step': 1000, 'epoch_episode': 1, 'episode_step': 999, 'score': '37.975', 'eps': '0.401', 'elapsed': '88s'}\n",
      "2020-09-24 18:55:31,997 - drl - EPISODE - Train. - {'step': 32000, 'episode': 31, 'epoch': 3, 'epoch_step': 2000, 'epoch_episode': 2, 'episode_step': 999, 'score': '37.208', 'eps': '0.389', 'elapsed': '88s'}\n",
      "2020-09-24 18:56:59,669 - drl - EPISODE - Train. - {'step': 33000, 'episode': 32, 'epoch': 3, 'epoch_step': 3000, 'epoch_episode': 3, 'episode_step': 999, 'score': '38.904', 'eps': '0.377', 'elapsed': '88s'}\n",
      "2020-09-24 18:58:27,092 - drl - EPISODE - Train. - {'step': 34000, 'episode': 33, 'epoch': 3, 'epoch_step': 4000, 'epoch_episode': 4, 'episode_step': 999, 'score': '36.776', 'eps': '0.366', 'elapsed': '87s'}\n",
      "2020-09-24 18:59:54,465 - drl - EPISODE - Train. - {'step': 35000, 'episode': 34, 'epoch': 3, 'epoch_step': 5000, 'epoch_episode': 5, 'episode_step': 999, 'score': '38.292', 'eps': '0.355', 'elapsed': '87s'}\n",
      "2020-09-24 19:01:22,232 - drl - EPISODE - Train. - {'step': 36000, 'episode': 35, 'epoch': 3, 'epoch_step': 6000, 'epoch_episode': 6, 'episode_step': 999, 'score': '38.695', 'eps': '0.344', 'elapsed': '88s'}\n",
      "2020-09-24 19:02:49,549 - drl - EPISODE - Train. - {'step': 37000, 'episode': 36, 'epoch': 3, 'epoch_step': 7000, 'epoch_episode': 7, 'episode_step': 999, 'score': '38.264', 'eps': '0.334', 'elapsed': '87s'}\n",
      "2020-09-24 19:04:16,178 - drl - EPISODE - Train. - {'step': 38000, 'episode': 37, 'epoch': 3, 'epoch_step': 8000, 'epoch_episode': 8, 'episode_step': 999, 'score': '37.070', 'eps': '0.324', 'elapsed': '87s'}\n",
      "2020-09-24 19:05:43,274 - drl - EPISODE - Train. - {'step': 39000, 'episode': 38, 'epoch': 3, 'epoch_step': 9000, 'epoch_episode': 9, 'episode_step': 999, 'score': '37.777', 'eps': '0.314', 'elapsed': '87s'}\n",
      "2020-09-24 19:07:10,842 - drl - EPISODE - Train. - {'step': 40000, 'episode': 39, 'epoch': 3, 'epoch_step': 10000, 'epoch_episode': 10, 'episode_step': 999, 'score': '38.721', 'eps': '0.305', 'elapsed': '88s'}\n",
      "2020-09-24 19:08:30,385 - drl - EPISODE - Validate. - {'epoch': 3, 'epoch_step': 1000, 'epoch_episode': 1, 'episode_step': 999, 'score': '38.720', 'eps': '0.296', 'elapsed': '80s'}\n",
      "2020-09-24 19:09:49,922 - drl - EPISODE - Validate. - {'epoch': 3, 'epoch_step': 2000, 'epoch_episode': 2, 'episode_step': 999, 'score': '38.657', 'eps': '0.296', 'elapsed': '80s'}\n",
      "2020-09-24 19:09:49,922 - drl - EPOCH - Epoch. - {'epoch': 3, 'mean score': 23.664411971059163, 'mean val score': 38.68874913523905, 'eps': '0.296', 'elapsed': '1033s'}\n",
      "2020-09-24 19:11:17,605 - drl - EPISODE - Train. - {'step': 41000, 'episode': 40, 'epoch': 4, 'epoch_step': 1000, 'epoch_episode': 1, 'episode_step': 999, 'score': '38.316', 'eps': '0.296', 'elapsed': '88s'}\n",
      "2020-09-24 19:12:44,654 - drl - EPISODE - Train. - {'step': 42000, 'episode': 41, 'epoch': 4, 'epoch_step': 2000, 'epoch_episode': 2, 'episode_step': 999, 'score': '34.949', 'eps': '0.287', 'elapsed': '87s'}\n",
      "2020-09-24 19:14:12,173 - drl - EPISODE - Train. - {'step': 43000, 'episode': 42, 'epoch': 4, 'epoch_step': 3000, 'epoch_episode': 3, 'episode_step': 999, 'score': '37.149', 'eps': '0.278', 'elapsed': '88s'}\n",
      "2020-09-24 19:15:39,619 - drl - EPISODE - Train. - {'step': 44000, 'episode': 43, 'epoch': 4, 'epoch_step': 4000, 'epoch_episode': 4, 'episode_step': 999, 'score': '37.151', 'eps': '0.270', 'elapsed': '87s'}\n",
      "2020-09-24 19:17:06,705 - drl - EPISODE - Train. - {'step': 45000, 'episode': 44, 'epoch': 4, 'epoch_step': 5000, 'epoch_episode': 5, 'episode_step': 999, 'score': '38.503', 'eps': '0.262', 'elapsed': '87s'}\n",
      "2020-09-24 19:18:34,256 - drl - EPISODE - Train. - {'step': 46000, 'episode': 45, 'epoch': 4, 'epoch_step': 6000, 'epoch_episode': 6, 'episode_step': 999, 'score': '38.054', 'eps': '0.254', 'elapsed': '88s'}\n",
      "2020-09-24 19:20:01,247 - drl - EPISODE - Train. - {'step': 47000, 'episode': 46, 'epoch': 4, 'epoch_step': 7000, 'epoch_episode': 7, 'episode_step': 999, 'score': '39.172', 'eps': '0.246', 'elapsed': '87s'}\n",
      "2020-09-24 19:21:28,702 - drl - EPISODE - Train. - {'step': 48000, 'episode': 47, 'epoch': 4, 'epoch_step': 8000, 'epoch_episode': 8, 'episode_step': 999, 'score': '38.646', 'eps': '0.239', 'elapsed': '87s'}\n",
      "2020-09-24 19:22:56,354 - drl - EPISODE - Train. - {'step': 49000, 'episode': 48, 'epoch': 4, 'epoch_step': 9000, 'epoch_episode': 9, 'episode_step': 999, 'score': '38.051', 'eps': '0.232', 'elapsed': '88s'}\n",
      "2020-09-24 19:24:23,976 - drl - EPISODE - Train. - {'step': 50000, 'episode': 49, 'epoch': 4, 'epoch_step': 10000, 'epoch_episode': 10, 'episode_step': 999, 'score': '36.705', 'eps': '0.225', 'elapsed': '88s'}\n",
      "2020-09-24 19:25:43,504 - drl - EPISODE - Validate. - {'epoch': 4, 'epoch_step': 1000, 'epoch_episode': 1, 'episode_step': 999, 'score': '35.789', 'eps': '0.218', 'elapsed': '80s'}\n",
      "2020-09-24 19:27:03,041 - drl - EPISODE - Validate. - {'epoch': 4, 'epoch_step': 2000, 'epoch_episode': 2, 'episode_step': 999, 'score': '34.749', 'eps': '0.218', 'elapsed': '80s'}\n",
      "2020-09-24 19:27:03,043 - drl - EPOCH - Epoch. - {'epoch': 4, 'mean score': 26.46550940844976, 'mean val score': 35.269249211670825, 'eps': '0.218', 'elapsed': '1033s'}\n",
      "2020-09-24 19:28:30,201 - drl - EPISODE - Train. - {'step': 51000, 'episode': 50, 'epoch': 5, 'epoch_step': 1000, 'epoch_episode': 1, 'episode_step': 999, 'score': '37.638', 'eps': '0.218', 'elapsed': '87s'}\n",
      "2020-09-24 19:29:57,369 - drl - EPISODE - Train. - {'step': 52000, 'episode': 51, 'epoch': 5, 'epoch_step': 2000, 'epoch_episode': 2, 'episode_step': 999, 'score': '37.234', 'eps': '0.212', 'elapsed': '87s'}\n",
      "2020-09-24 19:31:25,219 - drl - EPISODE - Train. - {'step': 53000, 'episode': 52, 'epoch': 5, 'epoch_step': 3000, 'epoch_episode': 3, 'episode_step': 999, 'score': '38.364', 'eps': '0.205', 'elapsed': '88s'}\n",
      "2020-09-24 19:32:52,403 - drl - EPISODE - Train. - {'step': 54000, 'episode': 53, 'epoch': 5, 'epoch_step': 4000, 'epoch_episode': 4, 'episode_step': 999, 'score': '38.481', 'eps': '0.199', 'elapsed': '87s'}\n",
      "2020-09-24 19:34:19,908 - drl - EPISODE - Train. - {'step': 55000, 'episode': 54, 'epoch': 5, 'epoch_step': 5000, 'epoch_episode': 5, 'episode_step': 999, 'score': '37.459', 'eps': '0.193', 'elapsed': '88s'}\n",
      "2020-09-24 19:35:47,170 - drl - EPISODE - Train. - {'step': 56000, 'episode': 55, 'epoch': 5, 'epoch_step': 6000, 'epoch_episode': 6, 'episode_step': 999, 'score': '37.818', 'eps': '0.187', 'elapsed': '87s'}\n",
      "2020-09-24 19:37:15,108 - drl - EPISODE - Train. - {'step': 57000, 'episode': 56, 'epoch': 5, 'epoch_step': 7000, 'epoch_episode': 7, 'episode_step': 999, 'score': '36.967', 'eps': '0.182', 'elapsed': '88s'}\n",
      "2020-09-24 19:38:42,524 - drl - EPISODE - Train. - {'step': 58000, 'episode': 57, 'epoch': 5, 'epoch_step': 8000, 'epoch_episode': 8, 'episode_step': 999, 'score': '38.033', 'eps': '0.176', 'elapsed': '87s'}\n",
      "2020-09-24 19:40:09,814 - drl - EPISODE - Train. - {'step': 59000, 'episode': 58, 'epoch': 5, 'epoch_step': 9000, 'epoch_episode': 9, 'episode_step': 999, 'score': '37.254', 'eps': '0.171', 'elapsed': '87s'}\n",
      "2020-09-24 19:41:37,318 - drl - EPISODE - Train. - {'step': 60000, 'episode': 59, 'epoch': 5, 'epoch_step': 10000, 'epoch_episode': 10, 'episode_step': 999, 'score': '36.818', 'eps': '0.166', 'elapsed': '88s'}\n",
      "2020-09-24 19:42:56,844 - drl - EPISODE - Validate. - {'epoch': 5, 'epoch_step': 1000, 'epoch_episode': 1, 'episode_step': 999, 'score': '38.498', 'eps': '0.161', 'elapsed': '80s'}\n",
      "2020-09-24 19:44:16,397 - drl - EPISODE - Validate. - {'epoch': 5, 'epoch_step': 2000, 'epoch_episode': 2, 'episode_step': 999, 'score': '38.734', 'eps': '0.161', 'elapsed': '80s'}\n",
      "2020-09-24 19:44:16,398 - drl - EPOCH - Epoch. - {'epoch': 5, 'mean score': 28.32242436694447, 'mean val score': 38.61624913685955, 'eps': '0.161', 'elapsed': '1033s'}\n",
      "2020-09-24 19:45:43,571 - drl - EPISODE - Train. - {'step': 61000, 'episode': 60, 'epoch': 6, 'epoch_step': 1000, 'epoch_episode': 1, 'episode_step': 999, 'score': '37.750', 'eps': '0.161', 'elapsed': '87s'}\n",
      "2020-09-24 19:47:10,889 - drl - EPISODE - Train. - {'step': 62000, 'episode': 61, 'epoch': 6, 'epoch_step': 2000, 'epoch_episode': 2, 'episode_step': 999, 'score': '36.986', 'eps': '0.156', 'elapsed': '87s'}\n",
      "2020-09-24 19:48:38,878 - drl - EPISODE - Train. - {'step': 63000, 'episode': 62, 'epoch': 6, 'epoch_step': 3000, 'epoch_episode': 3, 'episode_step': 999, 'score': '34.428', 'eps': '0.151', 'elapsed': '88s'}\n",
      "2020-09-24 19:50:05,885 - drl - EPISODE - Train. - {'step': 64000, 'episode': 63, 'epoch': 6, 'epoch_step': 4000, 'epoch_episode': 4, 'episode_step': 999, 'score': '35.183', 'eps': '0.147', 'elapsed': '87s'}\n",
      "2020-09-24 19:51:33,448 - drl - EPISODE - Train. - {'step': 65000, 'episode': 64, 'epoch': 6, 'epoch_step': 5000, 'epoch_episode': 5, 'episode_step': 999, 'score': '35.272', 'eps': '0.142', 'elapsed': '88s'}\n",
      "2020-09-24 19:53:00,604 - drl - EPISODE - Train. - {'step': 66000, 'episode': 65, 'epoch': 6, 'epoch_step': 6000, 'epoch_episode': 6, 'episode_step': 999, 'score': '37.795', 'eps': '0.138', 'elapsed': '87s'}\n",
      "2020-09-24 19:54:28,130 - drl - EPISODE - Train. - {'step': 67000, 'episode': 66, 'epoch': 6, 'epoch_step': 7000, 'epoch_episode': 7, 'episode_step': 999, 'score': '37.865', 'eps': '0.134', 'elapsed': '88s'}\n",
      "2020-09-24 19:55:55,528 - drl - EPISODE - Train. - {'step': 68000, 'episode': 67, 'epoch': 6, 'epoch_step': 8000, 'epoch_episode': 8, 'episode_step': 999, 'score': '38.693', 'eps': '0.130', 'elapsed': '87s'}\n",
      "2020-09-24 19:57:22,793 - drl - EPISODE - Train. - {'step': 69000, 'episode': 68, 'epoch': 6, 'epoch_step': 9000, 'epoch_episode': 9, 'episode_step': 999, 'score': '38.510', 'eps': '0.126', 'elapsed': '87s'}\n",
      "2020-09-24 19:58:50,698 - drl - EPISODE - Train. - {'step': 70000, 'episode': 69, 'epoch': 6, 'epoch_step': 10000, 'epoch_episode': 10, 'episode_step': 999, 'score': '38.083', 'eps': '0.122', 'elapsed': '88s'}\n",
      "2020-09-24 20:00:10,225 - drl - EPISODE - Validate. - {'epoch': 6, 'epoch_step': 1000, 'epoch_episode': 1, 'episode_step': 999, 'score': '38.903', 'eps': '0.119', 'elapsed': '80s'}\n",
      "2020-09-24 20:01:29,761 - drl - EPISODE - Validate. - {'epoch': 6, 'epoch_step': 2000, 'epoch_episode': 2, 'episode_step': 999, 'score': '39.076', 'eps': '0.119', 'elapsed': '80s'}\n",
      "2020-09-24 20:01:29,762 - drl - EPOCH - Epoch. - {'epoch': 6, 'mean score': 29.57017791048357, 'mean val score': 38.98999912850559, 'eps': '0.119', 'elapsed': '1033s'}\n",
      "2020-09-24 20:02:56,838 - drl - EPISODE - Train. - {'step': 71000, 'episode': 70, 'epoch': 7, 'epoch_step': 1000, 'epoch_episode': 1, 'episode_step': 999, 'score': '38.772', 'eps': '0.119', 'elapsed': '87s'}\n",
      "2020-09-24 20:04:24,011 - drl - EPISODE - Train. - {'step': 72000, 'episode': 71, 'epoch': 7, 'epoch_step': 2000, 'epoch_episode': 2, 'episode_step': 999, 'score': '37.006', 'eps': '0.115', 'elapsed': '87s'}\n",
      "2020-09-24 20:05:51,556 - drl - EPISODE - Train. - {'step': 73000, 'episode': 72, 'epoch': 7, 'epoch_step': 3000, 'epoch_episode': 3, 'episode_step': 999, 'score': '38.065', 'eps': '0.112', 'elapsed': '88s'}\n",
      "2020-09-24 20:07:18,935 - drl - EPISODE - Train. - {'step': 74000, 'episode': 73, 'epoch': 7, 'epoch_step': 4000, 'epoch_episode': 4, 'episode_step': 999, 'score': '38.498', 'eps': '0.108', 'elapsed': '87s'}\n",
      "2020-09-24 20:08:45,939 - drl - EPISODE - Train. - {'step': 75000, 'episode': 74, 'epoch': 7, 'epoch_step': 5000, 'epoch_episode': 5, 'episode_step': 999, 'score': '38.975', 'eps': '0.105', 'elapsed': '87s'}\n",
      "2020-09-24 20:10:13,029 - drl - EPISODE - Train. - {'step': 76000, 'episode': 75, 'epoch': 7, 'epoch_step': 6000, 'epoch_episode': 6, 'episode_step': 999, 'score': '38.930', 'eps': '0.102', 'elapsed': '87s'}\n",
      "2020-09-24 20:11:39,864 - drl - EPISODE - Train. - {'step': 77000, 'episode': 76, 'epoch': 7, 'epoch_step': 7000, 'epoch_episode': 7, 'episode_step': 999, 'score': '38.025', 'eps': '0.100', 'elapsed': '87s'}\n",
      "2020-09-24 20:13:08,182 - drl - EPISODE - Train. - {'step': 78000, 'episode': 77, 'epoch': 7, 'epoch_step': 8000, 'epoch_episode': 8, 'episode_step': 999, 'score': '36.280', 'eps': '0.100', 'elapsed': '88s'}\n",
      "2020-09-24 20:14:34,798 - drl - EPISODE - Train. - {'step': 79000, 'episode': 78, 'epoch': 7, 'epoch_step': 9000, 'epoch_episode': 9, 'episode_step': 999, 'score': '37.167', 'eps': '0.100', 'elapsed': '87s'}\n",
      "2020-09-24 20:16:02,227 - drl - EPISODE - Train. - {'step': 80000, 'episode': 79, 'epoch': 7, 'epoch_step': 10000, 'epoch_episode': 10, 'episode_step': 999, 'score': '36.755', 'eps': '0.100', 'elapsed': '87s'}\n",
      "2020-09-24 20:17:21,754 - drl - EPISODE - Validate. - {'epoch': 7, 'epoch_step': 1000, 'epoch_episode': 1, 'episode_step': 999, 'score': '38.917', 'eps': '0.100', 'elapsed': '80s'}\n",
      "2020-09-24 20:18:41,291 - drl - EPISODE - Validate. - {'epoch': 7, 'epoch_step': 2000, 'epoch_episode': 2, 'episode_step': 999, 'score': '38.596', 'eps': '0.100', 'elapsed': '80s'}\n",
      "2020-09-24 20:18:41,294 - drl - EPOCH - Epoch. - {'epoch': 7, 'mean score': 30.604836815928575, 'mean val score': 38.75674913371913, 'eps': '0.100', 'elapsed': '1032s'}\n",
      "2020-09-24 20:20:09,291 - drl - EPISODE - Train. - {'step': 81000, 'episode': 80, 'epoch': 8, 'epoch_step': 1000, 'epoch_episode': 1, 'episode_step': 999, 'score': '38.428', 'eps': '0.100', 'elapsed': '88s'}\n",
      "2020-09-24 20:21:36,391 - drl - EPISODE - Train. - {'step': 82000, 'episode': 81, 'epoch': 8, 'epoch_step': 2000, 'epoch_episode': 2, 'episode_step': 999, 'score': '38.309', 'eps': '0.100', 'elapsed': '87s'}\n",
      "2020-09-24 20:23:03,445 - drl - EPISODE - Train. - {'step': 83000, 'episode': 82, 'epoch': 8, 'epoch_step': 3000, 'epoch_episode': 3, 'episode_step': 999, 'score': '38.492', 'eps': '0.100', 'elapsed': '87s'}\n",
      "2020-09-24 20:24:31,140 - drl - EPISODE - Train. - {'step': 84000, 'episode': 83, 'epoch': 8, 'epoch_step': 4000, 'epoch_episode': 4, 'episode_step': 999, 'score': '37.617', 'eps': '0.100', 'elapsed': '88s'}\n",
      "2020-09-24 20:25:58,243 - drl - EPISODE - Train. - {'step': 85000, 'episode': 84, 'epoch': 8, 'epoch_step': 5000, 'epoch_episode': 5, 'episode_step': 999, 'score': '37.046', 'eps': '0.100', 'elapsed': '87s'}\n",
      "2020-09-24 20:27:25,554 - drl - EPISODE - Train. - {'step': 86000, 'episode': 85, 'epoch': 8, 'epoch_step': 6000, 'epoch_episode': 6, 'episode_step': 999, 'score': '38.106', 'eps': '0.100', 'elapsed': '87s'}\n",
      "2020-09-24 20:28:52,404 - drl - EPISODE - Train. - {'step': 87000, 'episode': 86, 'epoch': 8, 'epoch_step': 7000, 'epoch_episode': 7, 'episode_step': 999, 'score': '38.547', 'eps': '0.100', 'elapsed': '87s'}\n",
      "2020-09-24 20:30:19,700 - drl - EPISODE - Train. - {'step': 88000, 'episode': 87, 'epoch': 8, 'epoch_step': 8000, 'epoch_episode': 8, 'episode_step': 999, 'score': '37.897', 'eps': '0.100', 'elapsed': '87s'}\n",
      "2020-09-24 20:31:47,370 - drl - EPISODE - Train. - {'step': 89000, 'episode': 88, 'epoch': 8, 'epoch_step': 9000, 'epoch_episode': 9, 'episode_step': 999, 'score': '39.061', 'eps': '0.100', 'elapsed': '88s'}\n",
      "2020-09-24 20:33:14,470 - drl - EPISODE - Train. - {'step': 90000, 'episode': 89, 'epoch': 8, 'epoch_step': 10000, 'epoch_episode': 10, 'episode_step': 999, 'score': '38.129', 'eps': '0.100', 'elapsed': '87s'}\n",
      "2020-09-24 20:34:34,012 - drl - EPISODE - Validate. - {'epoch': 8, 'epoch_step': 1000, 'epoch_episode': 1, 'episode_step': 999, 'score': '37.624', 'eps': '0.100', 'elapsed': '80s'}\n",
      "2020-09-24 20:35:53,549 - drl - EPISODE - Validate. - {'epoch': 8, 'epoch_step': 2000, 'epoch_episode': 2, 'episode_step': 999, 'score': '38.123', 'eps': '0.100', 'elapsed': '80s'}\n",
      "2020-09-24 20:35:53,550 - drl - EPOCH - Epoch. - {'epoch': 8, 'mean score': 31.444682630489893, 'mean val score': 37.87374915345572, 'eps': '0.100', 'elapsed': '1032s'}\n",
      "2020-09-24 20:37:20,672 - drl - EPISODE - Train. - {'step': 91000, 'episode': 90, 'epoch': 9, 'epoch_step': 1000, 'epoch_episode': 1, 'episode_step': 999, 'score': '38.250', 'eps': '0.100', 'elapsed': '87s'}\n",
      "2020-09-24 20:38:47,786 - drl - EPISODE - Train. - {'step': 92000, 'episode': 91, 'epoch': 9, 'epoch_step': 2000, 'epoch_episode': 2, 'episode_step': 999, 'score': '38.498', 'eps': '0.100', 'elapsed': '87s'}\n",
      "2020-09-24 20:40:14,946 - drl - EPISODE - Train. - {'step': 93000, 'episode': 92, 'epoch': 9, 'epoch_step': 3000, 'epoch_episode': 3, 'episode_step': 999, 'score': '38.468', 'eps': '0.100', 'elapsed': '87s'}\n",
      "2020-09-24 20:41:43,300 - drl - EPISODE - Train. - {'step': 94000, 'episode': 93, 'epoch': 9, 'epoch_step': 4000, 'epoch_episode': 4, 'episode_step': 999, 'score': '38.012', 'eps': '0.100', 'elapsed': '88s'}\n",
      "2020-09-24 20:43:10,200 - drl - EPISODE - Train. - {'step': 95000, 'episode': 94, 'epoch': 9, 'epoch_step': 5000, 'epoch_episode': 5, 'episode_step': 999, 'score': '38.884', 'eps': '0.100', 'elapsed': '87s'}\n",
      "2020-09-24 20:44:37,956 - drl - EPISODE - Train. - {'step': 96000, 'episode': 95, 'epoch': 9, 'epoch_step': 6000, 'epoch_episode': 6, 'episode_step': 999, 'score': '36.561', 'eps': '0.100', 'elapsed': '88s'}\n",
      "2020-09-24 20:46:04,982 - drl - EPISODE - Train. - {'step': 97000, 'episode': 96, 'epoch': 9, 'epoch_step': 7000, 'epoch_episode': 7, 'episode_step': 999, 'score': '38.392', 'eps': '0.100', 'elapsed': '87s'}\n",
      "2020-09-24 20:47:32,445 - drl - EPISODE - Train. - {'step': 98000, 'episode': 97, 'epoch': 9, 'epoch_step': 8000, 'epoch_episode': 8, 'episode_step': 999, 'score': '37.781', 'eps': '0.100', 'elapsed': '87s'}\n",
      "2020-09-24 20:48:59,720 - drl - EPISODE - Train. - {'step': 99000, 'episode': 98, 'epoch': 9, 'epoch_step': 9000, 'epoch_episode': 9, 'episode_step': 999, 'score': '38.380', 'eps': '0.100', 'elapsed': '87s'}\n",
      "2020-09-24 20:50:27,255 - drl - EPISODE - Train. - {'step': 100000, 'episode': 99, 'epoch': 9, 'epoch_step': 10000, 'epoch_episode': 10, 'episode_step': 999, 'score': '38.676', 'eps': '0.100', 'elapsed': '88s'}\n",
      "2020-09-24 20:51:46,784 - drl - EPISODE - Validate. - {'epoch': 9, 'epoch_step': 1000, 'epoch_episode': 1, 'episode_step': 999, 'score': '39.000', 'eps': '0.100', 'elapsed': '80s'}\n",
      "2020-09-24 20:53:06,318 - drl - EPISODE - Validate. - {'epoch': 9, 'epoch_step': 2000, 'epoch_episode': 2, 'episode_step': 999, 'score': '39.142', 'eps': '0.100', 'elapsed': '80s'}\n",
      "2020-09-24 20:53:06,318 - drl - EPOCH - Epoch. - {'epoch': 9, 'mean score': 32.119264282078476, 'mean val score': 39.07124912668951, 'eps': '0.100', 'elapsed': '1033s'}\n",
      "2020-09-24 20:54:33,671 - drl - EPISODE - Train. - {'step': 101000, 'episode': 100, 'epoch': 10, 'epoch_step': 1000, 'epoch_episode': 1, 'episode_step': 999, 'score': '38.244', 'eps': '0.100', 'elapsed': '87s'}\n",
      "2020-09-24 20:56:00,783 - drl - EPISODE - Train. - {'step': 102000, 'episode': 101, 'epoch': 10, 'epoch_step': 2000, 'epoch_episode': 2, 'episode_step': 999, 'score': '37.809', 'eps': '0.100', 'elapsed': '87s'}\n",
      "2020-09-24 20:57:28,156 - drl - EPISODE - Train. - {'step': 103000, 'episode': 102, 'epoch': 10, 'epoch_step': 3000, 'epoch_episode': 3, 'episode_step': 999, 'score': '37.656', 'eps': '0.100', 'elapsed': '87s'}\n",
      "2020-09-24 20:58:56,080 - drl - EPISODE - Train. - {'step': 104000, 'episode': 103, 'epoch': 10, 'epoch_step': 4000, 'epoch_episode': 4, 'episode_step': 999, 'score': '36.989', 'eps': '0.100', 'elapsed': '88s'}\n",
      "2020-09-24 21:00:23,452 - drl - EPISODE - Train. - {'step': 105000, 'episode': 104, 'epoch': 10, 'epoch_step': 5000, 'epoch_episode': 5, 'episode_step': 999, 'score': '38.760', 'eps': '0.100', 'elapsed': '87s'}\n",
      "2020-09-24 21:01:50,526 - drl - EPISODE - Train. - {'step': 106000, 'episode': 105, 'epoch': 10, 'epoch_step': 6000, 'epoch_episode': 6, 'episode_step': 999, 'score': '38.156', 'eps': '0.100', 'elapsed': '87s'}\n",
      "2020-09-24 21:03:18,488 - drl - EPISODE - Train. - {'step': 107000, 'episode': 106, 'epoch': 10, 'epoch_step': 7000, 'epoch_episode': 7, 'episode_step': 999, 'score': '36.130', 'eps': '0.100', 'elapsed': '88s'}\n",
      "2020-09-24 21:04:45,576 - drl - EPISODE - Train. - {'step': 108000, 'episode': 107, 'epoch': 10, 'epoch_step': 8000, 'epoch_episode': 8, 'episode_step': 999, 'score': '37.087', 'eps': '0.100', 'elapsed': '87s'}\n",
      "2020-09-24 21:06:12,891 - drl - EPISODE - Train. - {'step': 109000, 'episode': 108, 'epoch': 10, 'epoch_step': 9000, 'epoch_episode': 9, 'episode_step': 999, 'score': '37.138', 'eps': '0.100', 'elapsed': '87s'}\n",
      "2020-09-24 21:07:39,949 - drl - EPISODE - Train. - {'step': 110000, 'episode': 109, 'epoch': 10, 'epoch_step': 10000, 'epoch_episode': 10, 'episode_step': 999, 'score': '38.224', 'eps': '0.100', 'elapsed': '87s'}\n",
      "2020-09-24 21:08:59,493 - drl - EPISODE - Validate. - {'epoch': 10, 'epoch_step': 1000, 'epoch_episode': 1, 'episode_step': 999, 'score': '37.977', 'eps': '0.100', 'elapsed': '80s'}\n",
      "2020-09-24 21:10:19,046 - drl - EPISODE - Validate. - {'epoch': 10, 'epoch_step': 2000, 'epoch_episode': 2, 'episode_step': 999, 'score': '37.610', 'eps': '0.100', 'elapsed': '80s'}\n",
      "2020-09-24 21:10:19,047 - drl - EPOCH - Epoch. - {'epoch': 10, 'mean score': 35.57275920488685, 'mean val score': 37.79399915523827, 'eps': '0.100', 'elapsed': '1033s'}\n",
      "2020-09-24 21:11:46,004 - drl - EPISODE - Train. - {'step': 111000, 'episode': 110, 'epoch': 11, 'epoch_step': 1000, 'epoch_episode': 1, 'episode_step': 999, 'score': '38.051', 'eps': '0.100', 'elapsed': '87s'}\n",
      "2020-09-24 21:13:13,297 - drl - EPISODE - Train. - {'step': 112000, 'episode': 111, 'epoch': 11, 'epoch_step': 2000, 'epoch_episode': 2, 'episode_step': 999, 'score': '37.697', 'eps': '0.100', 'elapsed': '87s'}\n",
      "2020-09-24 21:14:40,729 - drl - EPISODE - Train. - {'step': 113000, 'episode': 112, 'epoch': 11, 'epoch_step': 3000, 'epoch_episode': 3, 'episode_step': 999, 'score': '38.479', 'eps': '0.100', 'elapsed': '87s'}\n",
      "2020-09-24 21:16:08,537 - drl - EPISODE - Train. - {'step': 114000, 'episode': 113, 'epoch': 11, 'epoch_step': 4000, 'epoch_episode': 4, 'episode_step': 999, 'score': '37.843', 'eps': '0.100', 'elapsed': '88s'}\n",
      "2020-09-24 21:17:36,074 - drl - EPISODE - Train. - {'step': 115000, 'episode': 114, 'epoch': 11, 'epoch_step': 5000, 'epoch_episode': 5, 'episode_step': 999, 'score': '38.270', 'eps': '0.100', 'elapsed': '88s'}\n",
      "2020-09-24 21:19:02,972 - drl - EPISODE - Train. - {'step': 116000, 'episode': 115, 'epoch': 11, 'epoch_step': 6000, 'epoch_episode': 6, 'episode_step': 999, 'score': '38.805', 'eps': '0.100', 'elapsed': '87s'}\n",
      "2020-09-24 21:20:30,444 - drl - EPISODE - Train. - {'step': 117000, 'episode': 116, 'epoch': 11, 'epoch_step': 7000, 'epoch_episode': 7, 'episode_step': 999, 'score': '38.465', 'eps': '0.100', 'elapsed': '87s'}\n",
      "2020-09-24 21:21:58,053 - drl - EPISODE - Train. - {'step': 118000, 'episode': 117, 'epoch': 11, 'epoch_step': 8000, 'epoch_episode': 8, 'episode_step': 999, 'score': '37.625', 'eps': '0.100', 'elapsed': '88s'}\n",
      "2020-09-24 21:23:25,379 - drl - EPISODE - Train. - {'step': 119000, 'episode': 118, 'epoch': 11, 'epoch_step': 9000, 'epoch_episode': 9, 'episode_step': 999, 'score': '38.842', 'eps': '0.100', 'elapsed': '87s'}\n",
      "2020-09-24 21:24:53,134 - drl - EPISODE - Train. - {'step': 120000, 'episode': 119, 'epoch': 11, 'epoch_step': 10000, 'epoch_episode': 10, 'episode_step': 999, 'score': '37.889', 'eps': '0.100', 'elapsed': '88s'}\n",
      "2020-09-24 21:26:12,660 - drl - EPISODE - Validate. - {'epoch': 11, 'epoch_step': 1000, 'epoch_episode': 1, 'episode_step': 999, 'score': '36.961', 'eps': '0.100', 'elapsed': '80s'}\n",
      "2020-09-24 21:27:32,197 - drl - EPISODE - Validate. - {'epoch': 11, 'epoch_step': 2000, 'epoch_episode': 2, 'episode_step': 999, 'score': '37.454', 'eps': '0.100', 'elapsed': '80s'}\n",
      "2020-09-24 21:27:32,197 - drl - EPOCH - Epoch. - {'epoch': 11, 'mean score': 37.54796416073758, 'mean val score': 37.20774916834198, 'eps': '0.100', 'elapsed': '1033s'}\n",
      "2020-09-24 21:28:59,349 - drl - EPISODE - Train. - {'step': 121000, 'episode': 120, 'epoch': 12, 'epoch_step': 1000, 'epoch_episode': 1, 'episode_step': 999, 'score': '39.056', 'eps': '0.100', 'elapsed': '87s'}\n",
      "2020-09-24 21:30:26,774 - drl - EPISODE - Train. - {'step': 122000, 'episode': 121, 'epoch': 12, 'epoch_step': 2000, 'epoch_episode': 2, 'episode_step': 999, 'score': '37.967', 'eps': '0.100', 'elapsed': '87s'}\n",
      "2020-09-24 21:31:54,355 - drl - EPISODE - Train. - {'step': 123000, 'episode': 122, 'epoch': 12, 'epoch_step': 3000, 'epoch_episode': 3, 'episode_step': 999, 'score': '38.151', 'eps': '0.100', 'elapsed': '88s'}\n",
      "2020-09-24 21:33:21,804 - drl - EPISODE - Train. - {'step': 124000, 'episode': 123, 'epoch': 12, 'epoch_step': 4000, 'epoch_episode': 4, 'episode_step': 999, 'score': '37.565', 'eps': '0.100', 'elapsed': '87s'}\n",
      "2020-09-24 21:34:49,444 - drl - EPISODE - Train. - {'step': 125000, 'episode': 124, 'epoch': 12, 'epoch_step': 5000, 'epoch_episode': 5, 'episode_step': 999, 'score': '38.585', 'eps': '0.100', 'elapsed': '88s'}\n",
      "2020-09-24 21:36:16,753 - drl - EPISODE - Train. - {'step': 126000, 'episode': 125, 'epoch': 12, 'epoch_step': 6000, 'epoch_episode': 6, 'episode_step': 999, 'score': '39.077', 'eps': '0.100', 'elapsed': '87s'}\n",
      "2020-09-24 21:37:44,175 - drl - EPISODE - Train. - {'step': 127000, 'episode': 126, 'epoch': 12, 'epoch_step': 7000, 'epoch_episode': 7, 'episode_step': 999, 'score': '38.190', 'eps': '0.100', 'elapsed': '87s'}\n",
      "2020-09-24 21:39:11,796 - drl - EPISODE - Train. - {'step': 128000, 'episode': 127, 'epoch': 12, 'epoch_step': 8000, 'epoch_episode': 8, 'episode_step': 999, 'score': '38.598', 'eps': '0.100', 'elapsed': '88s'}\n",
      "2020-09-24 21:40:39,071 - drl - EPISODE - Train. - {'step': 129000, 'episode': 128, 'epoch': 12, 'epoch_step': 9000, 'epoch_episode': 9, 'episode_step': 999, 'score': '38.925', 'eps': '0.100', 'elapsed': '87s'}\n",
      "2020-09-24 21:42:06,344 - drl - EPISODE - Train. - {'step': 130000, 'episode': 129, 'epoch': 12, 'epoch_step': 10000, 'epoch_episode': 10, 'episode_step': 999, 'score': '38.609', 'eps': '0.100', 'elapsed': '87s'}\n",
      "2020-09-24 21:43:25,871 - drl - EPISODE - Validate. - {'epoch': 12, 'epoch_step': 1000, 'epoch_episode': 1, 'episode_step': 999, 'score': '39.000', 'eps': '0.100', 'elapsed': '80s'}\n",
      "2020-09-24 21:44:45,408 - drl - EPISODE - Validate. - {'epoch': 12, 'epoch_step': 2000, 'epoch_episode': 2, 'episode_step': 999, 'score': '38.969', 'eps': '0.100', 'elapsed': '80s'}\n",
      "2020-09-24 21:44:45,410 - drl - EPOCH - Epoch. - {'epoch': 12, 'mean score': 37.879249153332786, 'mean val score': 38.984999128617346, 'eps': '0.100', 'elapsed': '1033s'}\n",
      "2020-09-24 21:46:13,038 - drl - EPISODE - Train. - {'step': 131000, 'episode': 130, 'epoch': 13, 'epoch_step': 1000, 'epoch_episode': 1, 'episode_step': 999, 'score': '38.862', 'eps': '0.100', 'elapsed': '88s'}\n",
      "2020-09-24 21:47:40,396 - drl - EPISODE - Train. - {'step': 132000, 'episode': 131, 'epoch': 13, 'epoch_step': 2000, 'epoch_episode': 2, 'episode_step': 999, 'score': '37.805', 'eps': '0.100', 'elapsed': '87s'}\n",
      "2020-09-24 21:49:07,532 - drl - EPISODE - Train. - {'step': 133000, 'episode': 132, 'epoch': 13, 'epoch_step': 3000, 'epoch_episode': 3, 'episode_step': 999, 'score': '37.223', 'eps': '0.100', 'elapsed': '87s'}\n",
      "2020-09-24 21:50:35,062 - drl - EPISODE - Train. - {'step': 134000, 'episode': 133, 'epoch': 13, 'epoch_step': 4000, 'epoch_episode': 4, 'episode_step': 999, 'score': '38.802', 'eps': '0.100', 'elapsed': '88s'}\n",
      "2020-09-24 21:52:02,104 - drl - EPISODE - Train. - {'step': 135000, 'episode': 134, 'epoch': 13, 'epoch_step': 5000, 'epoch_episode': 5, 'episode_step': 999, 'score': '38.653', 'eps': '0.100', 'elapsed': '87s'}\n",
      "2020-09-24 21:53:29,646 - drl - EPISODE - Train. - {'step': 136000, 'episode': 135, 'epoch': 13, 'epoch_step': 6000, 'epoch_episode': 6, 'episode_step': 999, 'score': '38.122', 'eps': '0.100', 'elapsed': '88s'}\n",
      "2020-09-24 21:54:57,369 - drl - EPISODE - Train. - {'step': 137000, 'episode': 136, 'epoch': 13, 'epoch_step': 7000, 'epoch_episode': 7, 'episode_step': 999, 'score': '38.898', 'eps': '0.100', 'elapsed': '88s'}\n",
      "2020-09-24 21:56:25,004 - drl - EPISODE - Train. - {'step': 138000, 'episode': 137, 'epoch': 13, 'epoch_step': 8000, 'epoch_episode': 8, 'episode_step': 999, 'score': '38.456', 'eps': '0.100', 'elapsed': '88s'}\n",
      "2020-09-24 21:57:52,513 - drl - EPISODE - Train. - {'step': 139000, 'episode': 138, 'epoch': 13, 'epoch_step': 9000, 'epoch_episode': 9, 'episode_step': 999, 'score': '37.559', 'eps': '0.100', 'elapsed': '88s'}\n",
      "2020-09-24 21:59:20,011 - drl - EPISODE - Train. - {'step': 140000, 'episode': 139, 'epoch': 13, 'epoch_step': 10000, 'epoch_episode': 10, 'episode_step': 999, 'score': '38.208', 'eps': '0.100', 'elapsed': '87s'}\n",
      "2020-09-24 22:00:39,555 - drl - EPISODE - Validate. - {'epoch': 13, 'epoch_step': 1000, 'epoch_episode': 1, 'episode_step': 999, 'score': '37.653', 'eps': '0.100', 'elapsed': '80s'}\n",
      "2020-09-24 22:01:59,092 - drl - EPISODE - Validate. - {'epoch': 13, 'epoch_step': 2000, 'epoch_episode': 2, 'episode_step': 999, 'score': '38.524', 'eps': '0.100', 'elapsed': '80s'}\n",
      "2020-09-24 22:01:59,093 - drl - EPOCH - Epoch. - {'epoch': 13, 'mean score': 37.90831415268313, 'mean val score': 38.088749148650095, 'eps': '0.100', 'elapsed': '1034s'}\n",
      "2020-09-24 22:03:26,371 - drl - EPISODE - Train. - {'step': 141000, 'episode': 140, 'epoch': 14, 'epoch_step': 1000, 'epoch_episode': 1, 'episode_step': 999, 'score': '38.958', 'eps': '0.100', 'elapsed': '87s'}\n",
      "2020-09-24 22:04:53,392 - drl - EPISODE - Train. - {'step': 142000, 'episode': 141, 'epoch': 14, 'epoch_step': 2000, 'epoch_episode': 2, 'episode_step': 999, 'score': '38.241', 'eps': '0.100', 'elapsed': '87s'}\n",
      "2020-09-24 22:06:20,523 - drl - EPISODE - Train. - {'step': 143000, 'episode': 142, 'epoch': 14, 'epoch_step': 3000, 'epoch_episode': 3, 'episode_step': 999, 'score': '38.773', 'eps': '0.100', 'elapsed': '87s'}\n",
      "2020-09-24 22:07:47,851 - drl - EPISODE - Train. - {'step': 144000, 'episode': 143, 'epoch': 14, 'epoch_step': 4000, 'epoch_episode': 4, 'episode_step': 999, 'score': '38.380', 'eps': '0.100', 'elapsed': '87s'}\n",
      "2020-09-24 22:09:14,464 - drl - EPISODE - Train. - {'step': 145000, 'episode': 144, 'epoch': 14, 'epoch_step': 5000, 'epoch_episode': 5, 'episode_step': 999, 'score': '38.239', 'eps': '0.100', 'elapsed': '87s'}\n",
      "2020-09-24 22:10:41,900 - drl - EPISODE - Train. - {'step': 146000, 'episode': 145, 'epoch': 14, 'epoch_step': 6000, 'epoch_episode': 6, 'episode_step': 999, 'score': '39.019', 'eps': '0.100', 'elapsed': '87s'}\n",
      "2020-09-24 22:12:09,177 - drl - EPISODE - Train. - {'step': 147000, 'episode': 146, 'epoch': 14, 'epoch_step': 7000, 'epoch_episode': 7, 'episode_step': 999, 'score': '38.920', 'eps': '0.100', 'elapsed': '87s'}\n",
      "2020-09-24 22:13:36,276 - drl - EPISODE - Train. - {'step': 148000, 'episode': 147, 'epoch': 14, 'epoch_step': 8000, 'epoch_episode': 8, 'episode_step': 999, 'score': '38.461', 'eps': '0.100', 'elapsed': '87s'}\n",
      "2020-09-24 22:15:03,702 - drl - EPISODE - Train. - {'step': 149000, 'episode': 148, 'epoch': 14, 'epoch_step': 9000, 'epoch_episode': 9, 'episode_step': 999, 'score': '38.619', 'eps': '0.100', 'elapsed': '87s'}\n",
      "2020-09-24 22:16:30,935 - drl - EPISODE - Train. - {'step': 150000, 'episode': 149, 'epoch': 14, 'epoch_step': 10000, 'epoch_episode': 10, 'episode_step': 999, 'score': '38.826', 'eps': '0.100', 'elapsed': '87s'}\n",
      "2020-09-24 22:17:50,462 - drl - EPISODE - Validate. - {'epoch': 14, 'epoch_step': 1000, 'epoch_episode': 1, 'episode_step': 999, 'score': '36.528', 'eps': '0.100', 'elapsed': '80s'}\n",
      "2020-09-24 22:19:09,999 - drl - EPISODE - Validate. - {'epoch': 14, 'epoch_step': 2000, 'epoch_episode': 2, 'episode_step': 999, 'score': '38.089', 'eps': '0.100', 'elapsed': '80s'}\n",
      "2020-09-24 22:19:10,000 - drl - EPOCH - Epoch. - {'epoch': 14, 'mean score': 38.0057041505063, 'mean val score': 37.30874916608445, 'eps': '0.100', 'elapsed': '1031s'}\n",
      "2020-09-24 22:20:37,231 - drl - EPISODE - Train. - {'step': 151000, 'episode': 150, 'epoch': 15, 'epoch_step': 1000, 'epoch_episode': 1, 'episode_step': 999, 'score': '39.112', 'eps': '0.100', 'elapsed': '87s'}\n",
      "2020-09-24 22:22:04,801 - drl - EPISODE - Train. - {'step': 152000, 'episode': 151, 'epoch': 15, 'epoch_step': 2000, 'epoch_episode': 2, 'episode_step': 999, 'score': '39.152', 'eps': '0.100', 'elapsed': '88s'}\n",
      "2020-09-24 22:23:31,807 - drl - EPISODE - Train. - {'step': 153000, 'episode': 152, 'epoch': 15, 'epoch_step': 3000, 'epoch_episode': 3, 'episode_step': 999, 'score': '39.005', 'eps': '0.100', 'elapsed': '87s'}\n",
      "2020-09-24 22:24:58,990 - drl - EPISODE - Train. - {'step': 154000, 'episode': 153, 'epoch': 15, 'epoch_step': 4000, 'epoch_episode': 4, 'episode_step': 999, 'score': '37.504', 'eps': '0.100', 'elapsed': '87s'}\n",
      "2020-09-24 22:26:26,462 - drl - EPISODE - Train. - {'step': 155000, 'episode': 154, 'epoch': 15, 'epoch_step': 5000, 'epoch_episode': 5, 'episode_step': 999, 'score': '38.577', 'eps': '0.100', 'elapsed': '87s'}\n",
      "2020-09-24 22:27:54,160 - drl - EPISODE - Train. - {'step': 156000, 'episode': 155, 'epoch': 15, 'epoch_step': 6000, 'epoch_episode': 6, 'episode_step': 999, 'score': '38.668', 'eps': '0.100', 'elapsed': '88s'}\n",
      "2020-09-24 22:29:21,838 - drl - EPISODE - Train. - {'step': 157000, 'episode': 156, 'epoch': 15, 'epoch_step': 7000, 'epoch_episode': 7, 'episode_step': 999, 'score': '38.361', 'eps': '0.100', 'elapsed': '88s'}\n",
      "2020-09-24 22:30:49,894 - drl - EPISODE - Train. - {'step': 158000, 'episode': 157, 'epoch': 15, 'epoch_step': 8000, 'epoch_episode': 8, 'episode_step': 999, 'score': '38.771', 'eps': '0.100', 'elapsed': '88s'}\n",
      "2020-09-24 22:32:17,400 - drl - EPISODE - Train. - {'step': 159000, 'episode': 158, 'epoch': 15, 'epoch_step': 9000, 'epoch_episode': 9, 'episode_step': 999, 'score': '38.957', 'eps': '0.100', 'elapsed': '88s'}\n",
      "2020-09-24 22:33:45,178 - drl - EPISODE - Train. - {'step': 160000, 'episode': 159, 'epoch': 15, 'epoch_step': 10000, 'epoch_episode': 10, 'episode_step': 999, 'score': '38.871', 'eps': '0.100', 'elapsed': '88s'}\n",
      "2020-09-24 22:35:04,706 - drl - EPISODE - Validate. - {'epoch': 15, 'epoch_step': 1000, 'epoch_episode': 1, 'episode_step': 999, 'score': '39.159', 'eps': '0.100', 'elapsed': '80s'}\n",
      "2020-09-24 22:36:24,262 - drl - EPISODE - Validate. - {'epoch': 15, 'epoch_step': 2000, 'epoch_episode': 2, 'episode_step': 999, 'score': '39.078', 'eps': '0.100', 'elapsed': '80s'}\n",
      "2020-09-24 22:36:24,265 - drl - EPOCH - Epoch. - {'epoch': 15, 'mean score': 38.11480414806772, 'mean val score': 39.11899912562221, 'eps': '0.100', 'elapsed': '1034s'}\n",
      "2020-09-24 22:37:51,558 - drl - EPISODE - Train. - {'step': 161000, 'episode': 160, 'epoch': 16, 'epoch_step': 1000, 'epoch_episode': 1, 'episode_step': 999, 'score': '38.723', 'eps': '0.100', 'elapsed': '87s'}\n",
      "2020-09-24 22:39:18,972 - drl - EPISODE - Train. - {'step': 162000, 'episode': 161, 'epoch': 16, 'epoch_step': 2000, 'epoch_episode': 2, 'episode_step': 999, 'score': '37.722', 'eps': '0.100', 'elapsed': '87s'}\n",
      "2020-09-24 22:40:46,144 - drl - EPISODE - Train. - {'step': 163000, 'episode': 162, 'epoch': 16, 'epoch_step': 3000, 'epoch_episode': 3, 'episode_step': 999, 'score': '38.756', 'eps': '0.100', 'elapsed': '87s'}\n",
      "2020-09-24 22:42:12,873 - drl - EPISODE - Train. - {'step': 164000, 'episode': 163, 'epoch': 16, 'epoch_step': 4000, 'epoch_episode': 4, 'episode_step': 999, 'score': '38.707', 'eps': '0.100', 'elapsed': '87s'}\n",
      "2020-09-24 22:43:40,704 - drl - EPISODE - Train. - {'step': 165000, 'episode': 164, 'epoch': 16, 'epoch_step': 5000, 'epoch_episode': 5, 'episode_step': 999, 'score': '38.718', 'eps': '0.100', 'elapsed': '88s'}\n",
      "2020-09-24 22:45:08,276 - drl - EPISODE - Train. - {'step': 166000, 'episode': 165, 'epoch': 16, 'epoch_step': 6000, 'epoch_episode': 6, 'episode_step': 999, 'score': '39.324', 'eps': '0.100', 'elapsed': '88s'}\n",
      "2020-09-24 22:46:34,957 - drl - EPISODE - Train. - {'step': 167000, 'episode': 166, 'epoch': 16, 'epoch_step': 7000, 'epoch_episode': 7, 'episode_step': 999, 'score': '39.289', 'eps': '0.100', 'elapsed': '87s'}\n",
      "2020-09-24 22:48:02,791 - drl - EPISODE - Train. - {'step': 168000, 'episode': 167, 'epoch': 16, 'epoch_step': 8000, 'epoch_episode': 8, 'episode_step': 999, 'score': '38.786', 'eps': '0.100', 'elapsed': '88s'}\n",
      "2020-09-24 22:49:30,236 - drl - EPISODE - Train. - {'step': 169000, 'episode': 168, 'epoch': 16, 'epoch_step': 9000, 'epoch_episode': 9, 'episode_step': 999, 'score': '38.654', 'eps': '0.100', 'elapsed': '87s'}\n",
      "2020-09-24 22:50:58,226 - drl - EPISODE - Train. - {'step': 170000, 'episode': 169, 'epoch': 16, 'epoch_step': 10000, 'epoch_episode': 10, 'episode_step': 999, 'score': '38.733', 'eps': '0.100', 'elapsed': '88s'}\n",
      "2020-09-24 22:52:17,753 - drl - EPISODE - Validate. - {'epoch': 16, 'epoch_step': 1000, 'epoch_episode': 1, 'episode_step': 999, 'score': '37.588', 'eps': '0.100', 'elapsed': '80s'}\n",
      "2020-09-24 22:53:37,290 - drl - EPISODE - Validate. - {'epoch': 16, 'epoch_step': 2000, 'epoch_episode': 2, 'episode_step': 999, 'score': '37.982', 'eps': '0.100', 'elapsed': '80s'}\n",
      "2020-09-24 22:53:37,290 - drl - EPOCH - Epoch. - {'epoch': 16, 'mean score': 38.283284144301895, 'mean val score': 37.785249155433846, 'eps': '0.100', 'elapsed': '1033s'}\n",
      "2020-09-24 22:55:04,767 - drl - EPISODE - Train. - {'step': 171000, 'episode': 170, 'epoch': 17, 'epoch_step': 1000, 'epoch_episode': 1, 'episode_step': 999, 'score': '37.958', 'eps': '0.100', 'elapsed': '87s'}\n",
      "2020-09-24 22:56:32,051 - drl - EPISODE - Train. - {'step': 172000, 'episode': 171, 'epoch': 17, 'epoch_step': 2000, 'epoch_episode': 2, 'episode_step': 999, 'score': '37.311', 'eps': '0.100', 'elapsed': '87s'}\n",
      "2020-09-24 22:58:00,044 - drl - EPISODE - Train. - {'step': 173000, 'episode': 172, 'epoch': 17, 'epoch_step': 3000, 'epoch_episode': 3, 'episode_step': 999, 'score': '39.180', 'eps': '0.100', 'elapsed': '88s'}\n",
      "2020-09-24 22:59:27,642 - drl - EPISODE - Train. - {'step': 174000, 'episode': 173, 'epoch': 17, 'epoch_step': 4000, 'epoch_episode': 4, 'episode_step': 999, 'score': '39.300', 'eps': '0.100', 'elapsed': '88s'}\n",
      "2020-09-24 23:00:54,879 - drl - EPISODE - Train. - {'step': 175000, 'episode': 174, 'epoch': 17, 'epoch_step': 5000, 'epoch_episode': 5, 'episode_step': 999, 'score': '38.279', 'eps': '0.100', 'elapsed': '87s'}\n",
      "2020-09-24 23:02:22,509 - drl - EPISODE - Train. - {'step': 176000, 'episode': 175, 'epoch': 17, 'epoch_step': 6000, 'epoch_episode': 6, 'episode_step': 999, 'score': '37.294', 'eps': '0.100', 'elapsed': '88s'}\n",
      "2020-09-24 23:03:49,894 - drl - EPISODE - Train. - {'step': 177000, 'episode': 176, 'epoch': 17, 'epoch_step': 7000, 'epoch_episode': 7, 'episode_step': 999, 'score': '37.622', 'eps': '0.100', 'elapsed': '87s'}\n",
      "2020-09-24 23:05:17,580 - drl - EPISODE - Train. - {'step': 178000, 'episode': 177, 'epoch': 17, 'epoch_step': 8000, 'epoch_episode': 8, 'episode_step': 999, 'score': '37.951', 'eps': '0.100', 'elapsed': '88s'}\n",
      "2020-09-24 23:06:45,498 - drl - EPISODE - Train. - {'step': 179000, 'episode': 178, 'epoch': 17, 'epoch_step': 9000, 'epoch_episode': 9, 'episode_step': 999, 'score': '37.962', 'eps': '0.100', 'elapsed': '88s'}\n",
      "2020-09-24 23:08:13,268 - drl - EPISODE - Train. - {'step': 180000, 'episode': 179, 'epoch': 17, 'epoch_step': 10000, 'epoch_episode': 10, 'episode_step': 999, 'score': '37.173', 'eps': '0.100', 'elapsed': '88s'}\n",
      "2020-09-24 23:09:32,794 - drl - EPISODE - Validate. - {'epoch': 17, 'epoch_step': 1000, 'epoch_episode': 1, 'episode_step': 999, 'score': '38.649', 'eps': '0.100', 'elapsed': '80s'}\n",
      "2020-09-24 23:10:52,332 - drl - EPISODE - Validate. - {'epoch': 17, 'epoch_step': 2000, 'epoch_episode': 2, 'episode_step': 999, 'score': '38.299', 'eps': '0.100', 'elapsed': '80s'}\n",
      "2020-09-24 23:10:52,333 - drl - EPOCH - Epoch. - {'epoch': 17, 'mean score': 38.298854143953875, 'mean val score': 38.47424914003349, 'eps': '0.100', 'elapsed': '1035s'}\n",
      "2020-09-24 23:12:20,298 - drl - EPISODE - Train. - {'step': 181000, 'episode': 180, 'epoch': 18, 'epoch_step': 1000, 'epoch_episode': 1, 'episode_step': 999, 'score': '39.101', 'eps': '0.100', 'elapsed': '88s'}\n",
      "2020-09-24 23:13:47,730 - drl - EPISODE - Train. - {'step': 182000, 'episode': 181, 'epoch': 18, 'epoch_step': 2000, 'epoch_episode': 2, 'episode_step': 999, 'score': '39.055', 'eps': '0.100', 'elapsed': '87s'}\n",
      "2020-09-24 23:15:15,334 - drl - EPISODE - Train. - {'step': 183000, 'episode': 182, 'epoch': 18, 'epoch_step': 3000, 'epoch_episode': 3, 'episode_step': 999, 'score': '38.663', 'eps': '0.100', 'elapsed': '88s'}\n",
      "2020-09-24 23:16:42,365 - drl - EPISODE - Train. - {'step': 184000, 'episode': 183, 'epoch': 18, 'epoch_step': 4000, 'epoch_episode': 4, 'episode_step': 999, 'score': '38.898', 'eps': '0.100', 'elapsed': '87s'}\n",
      "2020-09-24 23:18:09,993 - drl - EPISODE - Train. - {'step': 185000, 'episode': 184, 'epoch': 18, 'epoch_step': 5000, 'epoch_episode': 5, 'episode_step': 999, 'score': '38.270', 'eps': '0.100', 'elapsed': '88s'}\n",
      "2020-09-24 23:19:38,271 - drl - EPISODE - Train. - {'step': 186000, 'episode': 185, 'epoch': 18, 'epoch_step': 6000, 'epoch_episode': 6, 'episode_step': 999, 'score': '38.579', 'eps': '0.100', 'elapsed': '88s'}\n",
      "2020-09-24 23:21:05,466 - drl - EPISODE - Train. - {'step': 187000, 'episode': 186, 'epoch': 18, 'epoch_step': 7000, 'epoch_episode': 7, 'episode_step': 999, 'score': '38.644', 'eps': '0.100', 'elapsed': '87s'}\n",
      "2020-09-24 23:22:32,771 - drl - EPISODE - Train. - {'step': 188000, 'episode': 187, 'epoch': 18, 'epoch_step': 8000, 'epoch_episode': 8, 'episode_step': 999, 'score': '37.173', 'eps': '0.100', 'elapsed': '87s'}\n",
      "2020-09-24 23:24:00,183 - drl - EPISODE - Train. - {'step': 189000, 'episode': 188, 'epoch': 18, 'epoch_step': 9000, 'epoch_episode': 9, 'episode_step': 999, 'score': '38.501', 'eps': '0.100', 'elapsed': '87s'}\n",
      "2020-09-24 23:25:28,032 - drl - EPISODE - Train. - {'step': 190000, 'episode': 189, 'epoch': 18, 'epoch_step': 10000, 'epoch_episode': 10, 'episode_step': 999, 'score': '39.200', 'eps': '0.100', 'elapsed': '88s'}\n",
      "2020-09-24 23:26:47,579 - drl - EPISODE - Validate. - {'epoch': 18, 'epoch_step': 1000, 'epoch_episode': 1, 'episode_step': 999, 'score': '38.662', 'eps': '0.100', 'elapsed': '80s'}\n",
      "2020-09-24 23:28:07,112 - drl - EPISODE - Validate. - {'epoch': 18, 'epoch_step': 2000, 'epoch_episode': 2, 'episode_step': 999, 'score': '38.712', 'eps': '0.100', 'elapsed': '80s'}\n",
      "2020-09-24 23:28:07,113 - drl - EPOCH - Epoch. - {'epoch': 18, 'mean score': 38.34337414295878, 'mean val score': 38.68724913527258, 'eps': '0.100', 'elapsed': '1035s'}\n",
      "2020-09-24 23:29:34,510 - drl - EPISODE - Train. - {'step': 191000, 'episode': 190, 'epoch': 19, 'epoch_step': 1000, 'epoch_episode': 1, 'episode_step': 999, 'score': '38.056', 'eps': '0.100', 'elapsed': '87s'}\n",
      "2020-09-24 23:31:02,559 - drl - EPISODE - Train. - {'step': 192000, 'episode': 191, 'epoch': 19, 'epoch_step': 2000, 'epoch_episode': 2, 'episode_step': 999, 'score': '38.761', 'eps': '0.100', 'elapsed': '88s'}\n",
      "2020-09-24 23:32:29,868 - drl - EPISODE - Train. - {'step': 193000, 'episode': 192, 'epoch': 19, 'epoch_step': 3000, 'epoch_episode': 3, 'episode_step': 999, 'score': '39.216', 'eps': '0.100', 'elapsed': '87s'}\n",
      "2020-09-24 23:33:57,461 - drl - EPISODE - Train. - {'step': 194000, 'episode': 193, 'epoch': 19, 'epoch_step': 4000, 'epoch_episode': 4, 'episode_step': 999, 'score': '38.392', 'eps': '0.100', 'elapsed': '88s'}\n",
      "2020-09-24 23:35:25,307 - drl - EPISODE - Train. - {'step': 195000, 'episode': 194, 'epoch': 19, 'epoch_step': 5000, 'epoch_episode': 5, 'episode_step': 999, 'score': '37.637', 'eps': '0.100', 'elapsed': '88s'}\n",
      "2020-09-24 23:36:52,354 - drl - EPISODE - Train. - {'step': 196000, 'episode': 195, 'epoch': 19, 'epoch_step': 6000, 'epoch_episode': 6, 'episode_step': 999, 'score': '38.888', 'eps': '0.100', 'elapsed': '87s'}\n",
      "2020-09-24 23:38:19,868 - drl - EPISODE - Train. - {'step': 197000, 'episode': 196, 'epoch': 19, 'epoch_step': 7000, 'epoch_episode': 7, 'episode_step': 999, 'score': '38.404', 'eps': '0.100', 'elapsed': '88s'}\n",
      "2020-09-24 23:39:47,395 - drl - EPISODE - Train. - {'step': 198000, 'episode': 197, 'epoch': 19, 'epoch_step': 8000, 'epoch_episode': 8, 'episode_step': 999, 'score': '37.964', 'eps': '0.100', 'elapsed': '88s'}\n",
      "2020-09-24 23:41:16,159 - drl - EPISODE - Train. - {'step': 199000, 'episode': 198, 'epoch': 19, 'epoch_step': 9000, 'epoch_episode': 9, 'episode_step': 999, 'score': '37.621', 'eps': '0.100', 'elapsed': '89s'}\n",
      "2020-09-24 23:42:43,983 - drl - EPISODE - Train. - {'step': 200000, 'episode': 199, 'epoch': 19, 'epoch_step': 10000, 'epoch_episode': 10, 'episode_step': 999, 'score': '38.698', 'eps': '0.100', 'elapsed': '88s'}\n",
      "2020-09-24 23:44:03,512 - drl - EPISODE - Validate. - {'epoch': 19, 'epoch_step': 1000, 'epoch_episode': 1, 'episode_step': 999, 'score': '37.714', 'eps': '0.100', 'elapsed': '80s'}\n",
      "2020-09-24 23:45:23,051 - drl - EPISODE - Validate. - {'epoch': 19, 'epoch_step': 2000, 'epoch_episode': 2, 'episode_step': 999, 'score': '38.043', 'eps': '0.100', 'elapsed': '80s'}\n",
      "2020-09-24 23:45:23,055 - drl - EPOCH - Epoch. - {'epoch': 19, 'mean score': 38.36070914257132, 'mean val score': 37.87899915333837, 'eps': '0.100', 'elapsed': '1036s'}\n",
      "2020-09-24 23:46:50,672 - drl - EPISODE - Train. - {'step': 201000, 'episode': 200, 'epoch': 20, 'epoch_step': 1000, 'epoch_episode': 1, 'episode_step': 999, 'score': '38.402', 'eps': '0.100', 'elapsed': '88s'}\n",
      "2020-09-24 23:48:18,880 - drl - EPISODE - Train. - {'step': 202000, 'episode': 201, 'epoch': 20, 'epoch_step': 2000, 'epoch_episode': 2, 'episode_step': 999, 'score': '36.633', 'eps': '0.100', 'elapsed': '88s'}\n",
      "2020-09-24 23:49:46,419 - drl - EPISODE - Train. - {'step': 203000, 'episode': 202, 'epoch': 20, 'epoch_step': 3000, 'epoch_episode': 3, 'episode_step': 999, 'score': '36.285', 'eps': '0.100', 'elapsed': '88s'}\n",
      "2020-09-24 23:51:13,794 - drl - EPISODE - Train. - {'step': 204000, 'episode': 203, 'epoch': 20, 'epoch_step': 4000, 'epoch_episode': 4, 'episode_step': 999, 'score': '37.504', 'eps': '0.100', 'elapsed': '87s'}\n",
      "2020-09-24 23:52:40,908 - drl - EPISODE - Train. - {'step': 205000, 'episode': 204, 'epoch': 20, 'epoch_step': 5000, 'epoch_episode': 5, 'episode_step': 999, 'score': '37.596', 'eps': '0.100', 'elapsed': '87s'}\n",
      "2020-09-24 23:54:08,828 - drl - EPISODE - Train. - {'step': 206000, 'episode': 205, 'epoch': 20, 'epoch_step': 6000, 'epoch_episode': 6, 'episode_step': 999, 'score': '38.725', 'eps': '0.100', 'elapsed': '88s'}\n",
      "2020-09-24 23:55:36,680 - drl - EPISODE - Train. - {'step': 207000, 'episode': 206, 'epoch': 20, 'epoch_step': 7000, 'epoch_episode': 7, 'episode_step': 999, 'score': '37.758', 'eps': '0.100', 'elapsed': '88s'}\n",
      "2020-09-24 23:57:04,488 - drl - EPISODE - Train. - {'step': 208000, 'episode': 207, 'epoch': 20, 'epoch_step': 8000, 'epoch_episode': 8, 'episode_step': 999, 'score': '37.979', 'eps': '0.100', 'elapsed': '88s'}\n",
      "2020-09-24 23:58:32,353 - drl - EPISODE - Train. - {'step': 209000, 'episode': 208, 'epoch': 20, 'epoch_step': 9000, 'epoch_episode': 9, 'episode_step': 999, 'score': '37.269', 'eps': '0.100', 'elapsed': '88s'}\n",
      "2020-09-24 23:59:59,958 - drl - EPISODE - Train. - {'step': 210000, 'episode': 209, 'epoch': 20, 'epoch_step': 10000, 'epoch_episode': 10, 'episode_step': 999, 'score': '37.745', 'eps': '0.100', 'elapsed': '88s'}\n",
      "2020-09-25 00:01:19,489 - drl - EPISODE - Validate. - {'epoch': 20, 'epoch_step': 1000, 'epoch_episode': 1, 'episode_step': 999, 'score': '34.935', 'eps': '0.100', 'elapsed': '80s'}\n",
      "2020-09-25 00:02:39,041 - drl - EPISODE - Validate. - {'epoch': 20, 'epoch_step': 2000, 'epoch_episode': 2, 'episode_step': 999, 'score': '33.909', 'eps': '0.100', 'elapsed': '80s'}\n",
      "2020-09-25 00:02:39,043 - drl - EPOCH - Epoch. - {'epoch': 20, 'mean score': 38.357744142637586, 'mean val score': 34.42199923060834, 'eps': '0.100', 'elapsed': '1036s'}\n",
      "2020-09-25 00:04:06,800 - drl - EPISODE - Train. - {'step': 211000, 'episode': 210, 'epoch': 21, 'epoch_step': 1000, 'epoch_episode': 1, 'episode_step': 999, 'score': '36.500', 'eps': '0.100', 'elapsed': '88s'}\n",
      "2020-09-25 00:05:34,697 - drl - EPISODE - Train. - {'step': 212000, 'episode': 211, 'epoch': 21, 'epoch_step': 2000, 'epoch_episode': 2, 'episode_step': 999, 'score': '37.524', 'eps': '0.100', 'elapsed': '88s'}\n",
      "2020-09-25 00:07:02,185 - drl - EPISODE - Train. - {'step': 213000, 'episode': 212, 'epoch': 21, 'epoch_step': 3000, 'epoch_episode': 3, 'episode_step': 999, 'score': '37.359', 'eps': '0.100', 'elapsed': '87s'}\n",
      "2020-09-25 00:08:29,260 - drl - EPISODE - Train. - {'step': 214000, 'episode': 213, 'epoch': 21, 'epoch_step': 4000, 'epoch_episode': 4, 'episode_step': 999, 'score': '36.786', 'eps': '0.100', 'elapsed': '87s'}\n",
      "2020-09-25 00:09:56,940 - drl - EPISODE - Train. - {'step': 215000, 'episode': 214, 'epoch': 21, 'epoch_step': 5000, 'epoch_episode': 5, 'episode_step': 999, 'score': '37.438', 'eps': '0.100', 'elapsed': '88s'}\n",
      "2020-09-25 00:11:24,773 - drl - EPISODE - Train. - {'step': 216000, 'episode': 215, 'epoch': 21, 'epoch_step': 6000, 'epoch_episode': 6, 'episode_step': 999, 'score': '38.051', 'eps': '0.100', 'elapsed': '88s'}\n",
      "2020-09-25 00:12:52,339 - drl - EPISODE - Train. - {'step': 217000, 'episode': 216, 'epoch': 21, 'epoch_step': 7000, 'epoch_episode': 7, 'episode_step': 999, 'score': '38.248', 'eps': '0.100', 'elapsed': '88s'}\n",
      "2020-09-25 00:14:19,561 - drl - EPISODE - Train. - {'step': 218000, 'episode': 217, 'epoch': 21, 'epoch_step': 8000, 'epoch_episode': 8, 'episode_step': 999, 'score': '36.058', 'eps': '0.100', 'elapsed': '87s'}\n",
      "2020-09-25 00:15:47,821 - drl - EPISODE - Train. - {'step': 219000, 'episode': 218, 'epoch': 21, 'epoch_step': 9000, 'epoch_episode': 9, 'episode_step': 999, 'score': '38.346', 'eps': '0.100', 'elapsed': '88s'}\n",
      "2020-09-25 00:17:15,570 - drl - EPISODE - Train. - {'step': 220000, 'episode': 219, 'epoch': 21, 'epoch_step': 10000, 'epoch_episode': 10, 'episode_step': 999, 'score': '38.135', 'eps': '0.100', 'elapsed': '88s'}\n",
      "2020-09-25 00:18:35,097 - drl - EPISODE - Validate. - {'epoch': 21, 'epoch_step': 1000, 'epoch_episode': 1, 'episode_step': 999, 'score': '38.220', 'eps': '0.100', 'elapsed': '80s'}\n",
      "2020-09-25 00:19:54,636 - drl - EPISODE - Validate. - {'epoch': 21, 'epoch_step': 2000, 'epoch_episode': 2, 'episode_step': 999, 'score': '38.761', 'eps': '0.100', 'elapsed': '80s'}\n",
      "2020-09-25 00:19:54,639 - drl - EPOCH - Epoch. - {'epoch': 21, 'mean score': 38.28253414431866, 'mean val score': 38.490499139670284, 'eps': '0.100', 'elapsed': '1036s'}\n",
      "2020-09-25 00:21:22,194 - drl - EPISODE - Train. - {'step': 221000, 'episode': 220, 'epoch': 22, 'epoch_step': 1000, 'epoch_episode': 1, 'episode_step': 999, 'score': '38.330', 'eps': '0.100', 'elapsed': '88s'}\n",
      "2020-09-25 00:22:49,305 - drl - EPISODE - Train. - {'step': 222000, 'episode': 221, 'epoch': 22, 'epoch_step': 2000, 'epoch_episode': 2, 'episode_step': 999, 'score': '38.236', 'eps': '0.100', 'elapsed': '87s'}\n",
      "2020-09-25 00:24:16,650 - drl - EPISODE - Train. - {'step': 223000, 'episode': 222, 'epoch': 22, 'epoch_step': 3000, 'epoch_episode': 3, 'episode_step': 999, 'score': '37.345', 'eps': '0.100', 'elapsed': '87s'}\n",
      "2020-09-25 00:25:44,679 - drl - EPISODE - Train. - {'step': 224000, 'episode': 223, 'epoch': 22, 'epoch_step': 4000, 'epoch_episode': 4, 'episode_step': 999, 'score': '38.141', 'eps': '0.100', 'elapsed': '88s'}\n",
      "2020-09-25 00:27:12,054 - drl - EPISODE - Train. - {'step': 225000, 'episode': 224, 'epoch': 22, 'epoch_step': 5000, 'epoch_episode': 5, 'episode_step': 999, 'score': '38.139', 'eps': '0.100', 'elapsed': '87s'}\n",
      "2020-09-25 00:28:39,528 - drl - EPISODE - Train. - {'step': 226000, 'episode': 225, 'epoch': 22, 'epoch_step': 6000, 'epoch_episode': 6, 'episode_step': 999, 'score': '38.632', 'eps': '0.100', 'elapsed': '87s'}\n",
      "2020-09-25 00:30:06,355 - drl - EPISODE - Train. - {'step': 227000, 'episode': 226, 'epoch': 22, 'epoch_step': 7000, 'epoch_episode': 7, 'episode_step': 999, 'score': '37.589', 'eps': '0.100', 'elapsed': '87s'}\n",
      "2020-09-25 00:31:34,441 - drl - EPISODE - Train. - {'step': 228000, 'episode': 227, 'epoch': 22, 'epoch_step': 8000, 'epoch_episode': 8, 'episode_step': 999, 'score': '36.805', 'eps': '0.100', 'elapsed': '88s'}\n",
      "2020-09-25 00:33:01,558 - drl - EPISODE - Train. - {'step': 229000, 'episode': 228, 'epoch': 22, 'epoch_step': 9000, 'epoch_episode': 9, 'episode_step': 999, 'score': '37.032', 'eps': '0.100', 'elapsed': '87s'}\n",
      "2020-09-25 00:34:29,116 - drl - EPISODE - Train. - {'step': 230000, 'episode': 229, 'epoch': 22, 'epoch_step': 10000, 'epoch_episode': 10, 'episode_step': 999, 'score': '38.271', 'eps': '0.100', 'elapsed': '88s'}\n",
      "2020-09-25 00:35:48,644 - drl - EPISODE - Validate. - {'epoch': 22, 'epoch_step': 1000, 'epoch_episode': 1, 'episode_step': 999, 'score': '37.223', 'eps': '0.100', 'elapsed': '80s'}\n",
      "2020-09-25 00:37:08,182 - drl - EPISODE - Validate. - {'epoch': 22, 'epoch_step': 2000, 'epoch_episode': 2, 'episode_step': 999, 'score': '37.595', 'eps': '0.100', 'elapsed': '80s'}\n",
      "2020-09-25 00:37:08,184 - drl - EPOCH - Epoch. - {'epoch': 22, 'mean score': 38.220494145705366, 'mean val score': 37.409249163838105, 'eps': '0.100', 'elapsed': '1034s'}\n",
      "2020-09-25 00:38:35,923 - drl - EPISODE - Train. - {'step': 231000, 'episode': 230, 'epoch': 23, 'epoch_step': 1000, 'epoch_episode': 1, 'episode_step': 999, 'score': '37.200', 'eps': '0.100', 'elapsed': '88s'}\n",
      "2020-09-25 00:40:03,010 - drl - EPISODE - Train. - {'step': 232000, 'episode': 231, 'epoch': 23, 'epoch_step': 2000, 'epoch_episode': 2, 'episode_step': 999, 'score': '38.376', 'eps': '0.100', 'elapsed': '87s'}\n",
      "2020-09-25 00:41:30,307 - drl - EPISODE - Train. - {'step': 233000, 'episode': 232, 'epoch': 23, 'epoch_step': 3000, 'epoch_episode': 3, 'episode_step': 999, 'score': '38.340', 'eps': '0.100', 'elapsed': '87s'}\n",
      "2020-09-25 00:42:57,544 - drl - EPISODE - Train. - {'step': 234000, 'episode': 233, 'epoch': 23, 'epoch_step': 4000, 'epoch_episode': 4, 'episode_step': 999, 'score': '38.043', 'eps': '0.100', 'elapsed': '87s'}\n",
      "2020-09-25 00:44:25,417 - drl - EPISODE - Train. - {'step': 235000, 'episode': 234, 'epoch': 23, 'epoch_step': 5000, 'epoch_episode': 5, 'episode_step': 999, 'score': '36.136', 'eps': '0.100', 'elapsed': '88s'}\n",
      "2020-09-25 00:45:53,521 - drl - EPISODE - Train. - {'step': 236000, 'episode': 235, 'epoch': 23, 'epoch_step': 6000, 'epoch_episode': 6, 'episode_step': 999, 'score': '38.284', 'eps': '0.100', 'elapsed': '88s'}\n",
      "2020-09-25 00:47:22,064 - drl - EPISODE - Train. - {'step': 237000, 'episode': 236, 'epoch': 23, 'epoch_step': 7000, 'epoch_episode': 7, 'episode_step': 999, 'score': '37.619', 'eps': '0.100', 'elapsed': '89s'}\n",
      "2020-09-25 00:48:50,069 - drl - EPISODE - Train. - {'step': 238000, 'episode': 237, 'epoch': 23, 'epoch_step': 8000, 'epoch_episode': 8, 'episode_step': 999, 'score': '36.850', 'eps': '0.100', 'elapsed': '88s'}\n",
      "2020-09-25 00:50:17,845 - drl - EPISODE - Train. - {'step': 239000, 'episode': 238, 'epoch': 23, 'epoch_step': 9000, 'epoch_episode': 9, 'episode_step': 999, 'score': '38.908', 'eps': '0.100', 'elapsed': '88s'}\n",
      "2020-09-25 00:51:45,937 - drl - EPISODE - Train. - {'step': 240000, 'episode': 239, 'epoch': 23, 'epoch_step': 10000, 'epoch_episode': 10, 'episode_step': 999, 'score': '39.126', 'eps': '0.100', 'elapsed': '88s'}\n",
      "2020-09-25 00:53:05,481 - drl - EPISODE - Validate. - {'epoch': 23, 'epoch_step': 1000, 'epoch_episode': 1, 'episode_step': 999, 'score': '39.323', 'eps': '0.100', 'elapsed': '80s'}\n",
      "2020-09-25 00:54:25,017 - drl - EPISODE - Validate. - {'epoch': 23, 'epoch_step': 2000, 'epoch_episode': 2, 'episode_step': 999, 'score': '39.282', 'eps': '0.100', 'elapsed': '80s'}\n",
      "2020-09-25 00:54:25,018 - drl - EPOCH - Epoch. - {'epoch': 23, 'mean score': 38.18342914653383, 'mean val score': 39.30274912151508, 'eps': '0.100', 'elapsed': '1037s'}\n",
      "2020-09-25 00:55:51,824 - drl - EPISODE - Train. - {'step': 241000, 'episode': 240, 'epoch': 24, 'epoch_step': 1000, 'epoch_episode': 1, 'episode_step': 999, 'score': '38.948', 'eps': '0.100', 'elapsed': '87s'}\n",
      "2020-09-25 00:57:19,114 - drl - EPISODE - Train. - {'step': 242000, 'episode': 241, 'epoch': 24, 'epoch_step': 2000, 'epoch_episode': 2, 'episode_step': 999, 'score': '38.674', 'eps': '0.100', 'elapsed': '87s'}\n",
      "2020-09-25 00:58:46,137 - drl - EPISODE - Train. - {'step': 243000, 'episode': 242, 'epoch': 24, 'epoch_step': 3000, 'epoch_episode': 3, 'episode_step': 999, 'score': '38.247', 'eps': '0.100', 'elapsed': '87s'}\n",
      "2020-09-25 01:00:13,353 - drl - EPISODE - Train. - {'step': 244000, 'episode': 243, 'epoch': 24, 'epoch_step': 4000, 'epoch_episode': 4, 'episode_step': 999, 'score': '38.727', 'eps': '0.100', 'elapsed': '87s'}\n",
      "2020-09-25 01:01:40,548 - drl - EPISODE - Train. - {'step': 245000, 'episode': 244, 'epoch': 24, 'epoch_step': 5000, 'epoch_episode': 5, 'episode_step': 999, 'score': '38.659', 'eps': '0.100', 'elapsed': '87s'}\n",
      "2020-09-25 01:03:07,878 - drl - EPISODE - Train. - {'step': 246000, 'episode': 245, 'epoch': 24, 'epoch_step': 6000, 'epoch_episode': 6, 'episode_step': 999, 'score': '35.497', 'eps': '0.100', 'elapsed': '87s'}\n",
      "2020-09-25 01:04:35,744 - drl - EPISODE - Train. - {'step': 247000, 'episode': 246, 'epoch': 24, 'epoch_step': 7000, 'epoch_episode': 7, 'episode_step': 999, 'score': '36.971', 'eps': '0.100', 'elapsed': '88s'}\n",
      "2020-09-25 01:06:02,695 - drl - EPISODE - Train. - {'step': 248000, 'episode': 247, 'epoch': 24, 'epoch_step': 8000, 'epoch_episode': 8, 'episode_step': 999, 'score': '38.576', 'eps': '0.100', 'elapsed': '87s'}\n",
      "2020-09-25 01:07:30,124 - drl - EPISODE - Train. - {'step': 249000, 'episode': 248, 'epoch': 24, 'epoch_step': 9000, 'epoch_episode': 9, 'episode_step': 999, 'score': '37.781', 'eps': '0.100', 'elapsed': '87s'}\n",
      "2020-09-25 01:08:57,772 - drl - EPISODE - Train. - {'step': 250000, 'episode': 249, 'epoch': 24, 'epoch_step': 10000, 'epoch_episode': 10, 'episode_step': 999, 'score': '37.675', 'eps': '0.100', 'elapsed': '88s'}\n",
      "2020-09-25 01:10:17,300 - drl - EPISODE - Validate. - {'epoch': 24, 'epoch_step': 1000, 'epoch_episode': 1, 'episode_step': 999, 'score': '38.658', 'eps': '0.100', 'elapsed': '80s'}\n",
      "2020-09-25 01:11:36,836 - drl - EPISODE - Validate. - {'epoch': 24, 'epoch_step': 2000, 'epoch_episode': 2, 'episode_step': 999, 'score': '38.822', 'eps': '0.100', 'elapsed': '80s'}\n",
      "2020-09-25 01:11:36,837 - drl - EPOCH - Epoch. - {'epoch': 24, 'mean score': 38.11662414802703, 'mean val score': 38.73999913409352, 'eps': '0.100', 'elapsed': '1032s'}\n",
      "2020-09-25 01:13:04,039 - drl - EPISODE - Train. - {'step': 251000, 'episode': 250, 'epoch': 25, 'epoch_step': 1000, 'epoch_episode': 1, 'episode_step': 999, 'score': '37.806', 'eps': '0.100', 'elapsed': '87s'}\n",
      "2020-09-25 01:14:32,423 - drl - EPISODE - Train. - {'step': 252000, 'episode': 251, 'epoch': 25, 'epoch_step': 2000, 'epoch_episode': 2, 'episode_step': 999, 'score': '38.065', 'eps': '0.100', 'elapsed': '88s'}\n",
      "2020-09-25 01:15:59,965 - drl - EPISODE - Train. - {'step': 253000, 'episode': 252, 'epoch': 25, 'epoch_step': 3000, 'epoch_episode': 3, 'episode_step': 999, 'score': '38.657', 'eps': '0.100', 'elapsed': '88s'}\n",
      "2020-09-25 01:17:27,410 - drl - EPISODE - Train. - {'step': 254000, 'episode': 253, 'epoch': 25, 'epoch_step': 4000, 'epoch_episode': 4, 'episode_step': 999, 'score': '38.914', 'eps': '0.100', 'elapsed': '87s'}\n",
      "2020-09-25 01:18:54,734 - drl - EPISODE - Train. - {'step': 255000, 'episode': 254, 'epoch': 25, 'epoch_step': 5000, 'epoch_episode': 5, 'episode_step': 999, 'score': '39.033', 'eps': '0.100', 'elapsed': '87s'}\n",
      "2020-09-25 01:20:21,942 - drl - EPISODE - Train. - {'step': 256000, 'episode': 255, 'epoch': 25, 'epoch_step': 6000, 'epoch_episode': 6, 'episode_step': 999, 'score': '38.913', 'eps': '0.100', 'elapsed': '87s'}\n",
      "2020-09-25 01:21:48,837 - drl - EPISODE - Train. - {'step': 257000, 'episode': 256, 'epoch': 25, 'epoch_step': 7000, 'epoch_episode': 7, 'episode_step': 999, 'score': '38.723', 'eps': '0.100', 'elapsed': '87s'}\n",
      "2020-09-25 01:23:16,448 - drl - EPISODE - Train. - {'step': 258000, 'episode': 257, 'epoch': 25, 'epoch_step': 8000, 'epoch_episode': 8, 'episode_step': 999, 'score': '38.945', 'eps': '0.100', 'elapsed': '88s'}\n",
      "2020-09-25 01:24:44,415 - drl - EPISODE - Train. - {'step': 259000, 'episode': 258, 'epoch': 25, 'epoch_step': 9000, 'epoch_episode': 9, 'episode_step': 999, 'score': '38.854', 'eps': '0.100', 'elapsed': '88s'}\n",
      "2020-09-25 01:26:11,813 - drl - EPISODE - Train. - {'step': 260000, 'episode': 259, 'epoch': 25, 'epoch_step': 10000, 'epoch_episode': 10, 'episode_step': 999, 'score': '38.197', 'eps': '0.100', 'elapsed': '87s'}\n",
      "2020-09-25 01:27:31,341 - drl - EPISODE - Validate. - {'epoch': 25, 'epoch_step': 1000, 'epoch_episode': 1, 'episode_step': 999, 'score': '37.686', 'eps': '0.100', 'elapsed': '80s'}\n",
      "2020-09-25 01:28:50,896 - drl - EPISODE - Validate. - {'epoch': 25, 'epoch_step': 2000, 'epoch_episode': 2, 'episode_step': 999, 'score': '37.387', 'eps': '0.100', 'elapsed': '80s'}\n",
      "2020-09-25 01:28:50,897 - drl - EPOCH - Epoch. - {'epoch': 25, 'mean score': 38.107914148221724, 'mean val score': 37.53674916098826, 'eps': '0.100', 'elapsed': '1034s'}\n",
      "2020-09-25 01:30:18,520 - drl - EPISODE - Train. - {'step': 261000, 'episode': 260, 'epoch': 26, 'epoch_step': 1000, 'epoch_episode': 1, 'episode_step': 999, 'score': '36.160', 'eps': '0.100', 'elapsed': '88s'}\n",
      "2020-09-25 01:31:46,452 - drl - EPISODE - Train. - {'step': 262000, 'episode': 261, 'epoch': 26, 'epoch_step': 2000, 'epoch_episode': 2, 'episode_step': 999, 'score': '38.709', 'eps': '0.100', 'elapsed': '88s'}\n",
      "2020-09-25 01:33:14,870 - drl - EPISODE - Train. - {'step': 263000, 'episode': 262, 'epoch': 26, 'epoch_step': 3000, 'epoch_episode': 3, 'episode_step': 999, 'score': '38.327', 'eps': '0.100', 'elapsed': '88s'}\n",
      "2020-09-25 01:34:42,296 - drl - EPISODE - Train. - {'step': 264000, 'episode': 263, 'epoch': 26, 'epoch_step': 4000, 'epoch_episode': 4, 'episode_step': 999, 'score': '38.781', 'eps': '0.100', 'elapsed': '87s'}\n",
      "2020-09-25 01:36:10,651 - drl - EPISODE - Train. - {'step': 265000, 'episode': 264, 'epoch': 26, 'epoch_step': 5000, 'epoch_episode': 5, 'episode_step': 999, 'score': '39.061', 'eps': '0.100', 'elapsed': '88s'}\n",
      "2020-09-25 01:37:39,077 - drl - EPISODE - Train. - {'step': 266000, 'episode': 265, 'epoch': 26, 'epoch_step': 6000, 'epoch_episode': 6, 'episode_step': 999, 'score': '37.761', 'eps': '0.100', 'elapsed': '88s'}\n",
      "2020-09-25 01:39:06,332 - drl - EPISODE - Train. - {'step': 267000, 'episode': 266, 'epoch': 26, 'epoch_step': 7000, 'epoch_episode': 7, 'episode_step': 999, 'score': '36.897', 'eps': '0.100', 'elapsed': '87s'}\n",
      "2020-09-25 01:40:33,876 - drl - EPISODE - Train. - {'step': 268000, 'episode': 267, 'epoch': 26, 'epoch_step': 8000, 'epoch_episode': 8, 'episode_step': 999, 'score': '37.959', 'eps': '0.100', 'elapsed': '88s'}\n",
      "2020-09-25 01:42:01,541 - drl - EPISODE - Train. - {'step': 269000, 'episode': 268, 'epoch': 26, 'epoch_step': 9000, 'epoch_episode': 9, 'episode_step': 999, 'score': '39.077', 'eps': '0.100', 'elapsed': '88s'}\n",
      "2020-09-25 01:43:29,352 - drl - EPISODE - Train. - {'step': 270000, 'episode': 269, 'epoch': 26, 'epoch_step': 10000, 'epoch_episode': 10, 'episode_step': 999, 'score': '38.747', 'eps': '0.100', 'elapsed': '88s'}\n",
      "2020-09-25 01:44:48,899 - drl - EPISODE - Validate. - {'epoch': 26, 'epoch_step': 1000, 'epoch_episode': 1, 'episode_step': 999, 'score': '38.951', 'eps': '0.100', 'elapsed': '80s'}\n",
      "2020-09-25 01:46:08,434 - drl - EPISODE - Validate. - {'epoch': 26, 'epoch_step': 2000, 'epoch_episode': 2, 'episode_step': 999, 'score': '38.667', 'eps': '0.100', 'elapsed': '80s'}\n",
      "2020-09-25 01:46:08,436 - drl - EPOCH - Epoch. - {'epoch': 26, 'mean score': 38.04856914954819, 'mean val score': 38.80899913255125, 'eps': '0.100', 'elapsed': '1038s'}\n",
      "2020-09-25 01:47:36,469 - drl - EPISODE - Train. - {'step': 271000, 'episode': 270, 'epoch': 27, 'epoch_step': 1000, 'epoch_episode': 1, 'episode_step': 999, 'score': '39.059', 'eps': '0.100', 'elapsed': '88s'}\n",
      "2020-09-25 01:49:04,677 - drl - EPISODE - Train. - {'step': 272000, 'episode': 271, 'epoch': 27, 'epoch_step': 2000, 'epoch_episode': 2, 'episode_step': 999, 'score': '39.031', 'eps': '0.100', 'elapsed': '88s'}\n",
      "2020-09-25 01:50:32,725 - drl - EPISODE - Train. - {'step': 273000, 'episode': 272, 'epoch': 27, 'epoch_step': 3000, 'epoch_episode': 3, 'episode_step': 999, 'score': '38.892', 'eps': '0.100', 'elapsed': '88s'}\n",
      "2020-09-25 01:52:01,047 - drl - EPISODE - Train. - {'step': 274000, 'episode': 273, 'epoch': 27, 'epoch_step': 4000, 'epoch_episode': 4, 'episode_step': 999, 'score': '37.896', 'eps': '0.100', 'elapsed': '88s'}\n",
      "2020-09-25 01:53:28,529 - drl - EPISODE - Train. - {'step': 275000, 'episode': 274, 'epoch': 27, 'epoch_step': 5000, 'epoch_episode': 5, 'episode_step': 999, 'score': '38.662', 'eps': '0.100', 'elapsed': '87s'}\n",
      "2020-09-25 01:54:56,274 - drl - EPISODE - Train. - {'step': 276000, 'episode': 275, 'epoch': 27, 'epoch_step': 6000, 'epoch_episode': 6, 'episode_step': 999, 'score': '38.925', 'eps': '0.100', 'elapsed': '88s'}\n",
      "2020-09-25 01:56:23,641 - drl - EPISODE - Train. - {'step': 277000, 'episode': 276, 'epoch': 27, 'epoch_step': 7000, 'epoch_episode': 7, 'episode_step': 999, 'score': '39.112', 'eps': '0.100', 'elapsed': '87s'}\n",
      "2020-09-25 01:57:51,446 - drl - EPISODE - Train. - {'step': 278000, 'episode': 277, 'epoch': 27, 'epoch_step': 8000, 'epoch_episode': 8, 'episode_step': 999, 'score': '38.547', 'eps': '0.100', 'elapsed': '88s'}\n",
      "2020-09-25 01:59:18,566 - drl - EPISODE - Train. - {'step': 279000, 'episode': 278, 'epoch': 27, 'epoch_step': 9000, 'epoch_episode': 9, 'episode_step': 999, 'score': '38.541', 'eps': '0.100', 'elapsed': '87s'}\n",
      "2020-09-25 02:00:45,732 - drl - EPISODE - Train. - {'step': 280000, 'episode': 279, 'epoch': 27, 'epoch_step': 10000, 'epoch_episode': 10, 'episode_step': 999, 'score': '37.927', 'eps': '0.100', 'elapsed': '87s'}\n",
      "2020-09-25 02:02:05,262 - drl - EPISODE - Validate. - {'epoch': 27, 'epoch_step': 1000, 'epoch_episode': 1, 'episode_step': 999, 'score': '35.468', 'eps': '0.100', 'elapsed': '80s'}\n",
      "2020-09-25 02:03:24,796 - drl - EPISODE - Validate. - {'epoch': 27, 'epoch_step': 2000, 'epoch_episode': 2, 'episode_step': 999, 'score': '35.258', 'eps': '0.100', 'elapsed': '80s'}\n",
      "2020-09-25 02:03:24,798 - drl - EPOCH - Epoch. - {'epoch': 27, 'mean score': 38.114189148081465, 'mean val score': 35.36349920956418, 'eps': '0.100', 'elapsed': '1036s'}\n",
      "2020-09-25 02:04:52,176 - drl - EPISODE - Train. - {'step': 281000, 'episode': 280, 'epoch': 28, 'epoch_step': 1000, 'epoch_episode': 1, 'episode_step': 999, 'score': '36.168', 'eps': '0.100', 'elapsed': '87s'}\n",
      "2020-09-25 02:06:19,606 - drl - EPISODE - Train. - {'step': 282000, 'episode': 281, 'epoch': 28, 'epoch_step': 2000, 'epoch_episode': 2, 'episode_step': 999, 'score': '37.266', 'eps': '0.100', 'elapsed': '87s'}\n",
      "2020-09-25 02:07:46,924 - drl - EPISODE - Train. - {'step': 283000, 'episode': 282, 'epoch': 28, 'epoch_step': 3000, 'epoch_episode': 3, 'episode_step': 999, 'score': '38.697', 'eps': '0.100', 'elapsed': '87s'}\n",
      "2020-09-25 02:09:14,002 - drl - EPISODE - Train. - {'step': 284000, 'episode': 283, 'epoch': 28, 'epoch_step': 4000, 'epoch_episode': 4, 'episode_step': 999, 'score': '39.239', 'eps': '0.100', 'elapsed': '87s'}\n",
      "2020-09-25 02:10:41,429 - drl - EPISODE - Train. - {'step': 285000, 'episode': 284, 'epoch': 28, 'epoch_step': 5000, 'epoch_episode': 5, 'episode_step': 999, 'score': '39.129', 'eps': '0.100', 'elapsed': '87s'}\n",
      "2020-09-25 02:12:08,981 - drl - EPISODE - Train. - {'step': 286000, 'episode': 285, 'epoch': 28, 'epoch_step': 6000, 'epoch_episode': 6, 'episode_step': 999, 'score': '38.389', 'eps': '0.100', 'elapsed': '88s'}\n",
      "2020-09-25 02:13:37,184 - drl - EPISODE - Train. - {'step': 287000, 'episode': 286, 'epoch': 28, 'epoch_step': 7000, 'epoch_episode': 7, 'episode_step': 999, 'score': '38.323', 'eps': '0.100', 'elapsed': '88s'}\n",
      "2020-09-25 02:15:04,799 - drl - EPISODE - Train. - {'step': 288000, 'episode': 287, 'epoch': 28, 'epoch_step': 8000, 'epoch_episode': 8, 'episode_step': 999, 'score': '37.856', 'eps': '0.100', 'elapsed': '88s'}\n",
      "2020-09-25 02:16:32,386 - drl - EPISODE - Train. - {'step': 289000, 'episode': 288, 'epoch': 28, 'epoch_step': 9000, 'epoch_episode': 9, 'episode_step': 999, 'score': '38.477', 'eps': '0.100', 'elapsed': '88s'}\n",
      "2020-09-25 02:17:59,965 - drl - EPISODE - Train. - {'step': 290000, 'episode': 289, 'epoch': 28, 'epoch_step': 10000, 'epoch_episode': 10, 'episode_step': 999, 'score': '38.732', 'eps': '0.100', 'elapsed': '88s'}\n",
      "2020-09-25 02:19:19,510 - drl - EPISODE - Validate. - {'epoch': 28, 'epoch_step': 1000, 'epoch_episode': 1, 'episode_step': 999, 'score': '39.091', 'eps': '0.100', 'elapsed': '80s'}\n",
      "2020-09-25 02:20:39,046 - drl - EPISODE - Validate. - {'epoch': 28, 'epoch_step': 2000, 'epoch_episode': 2, 'episode_step': 999, 'score': '38.919', 'eps': '0.100', 'elapsed': '80s'}\n",
      "2020-09-25 02:20:39,047 - drl - EPOCH - Epoch. - {'epoch': 28, 'mean score': 38.07612414893228, 'mean val score': 39.00524912816472, 'eps': '0.100', 'elapsed': '1034s'}\n",
      "2020-09-25 02:22:06,518 - drl - EPISODE - Train. - {'step': 291000, 'episode': 290, 'epoch': 29, 'epoch_step': 1000, 'epoch_episode': 1, 'episode_step': 999, 'score': '39.071', 'eps': '0.100', 'elapsed': '87s'}\n",
      "2020-09-25 02:23:33,998 - drl - EPISODE - Train. - {'step': 292000, 'episode': 291, 'epoch': 29, 'epoch_step': 2000, 'epoch_episode': 2, 'episode_step': 999, 'score': '38.444', 'eps': '0.100', 'elapsed': '87s'}\n",
      "2020-09-25 02:25:01,471 - drl - EPISODE - Train. - {'step': 293000, 'episode': 292, 'epoch': 29, 'epoch_step': 3000, 'epoch_episode': 3, 'episode_step': 999, 'score': '38.293', 'eps': '0.100', 'elapsed': '87s'}\n",
      "2020-09-25 02:26:29,216 - drl - EPISODE - Train. - {'step': 294000, 'episode': 293, 'epoch': 29, 'epoch_step': 4000, 'epoch_episode': 4, 'episode_step': 999, 'score': '38.734', 'eps': '0.100', 'elapsed': '88s'}\n",
      "2020-09-25 02:27:56,491 - drl - EPISODE - Train. - {'step': 295000, 'episode': 294, 'epoch': 29, 'epoch_step': 5000, 'epoch_episode': 5, 'episode_step': 999, 'score': '38.727', 'eps': '0.100', 'elapsed': '87s'}\n",
      "2020-09-25 02:29:23,943 - drl - EPISODE - Train. - {'step': 296000, 'episode': 295, 'epoch': 29, 'epoch_step': 6000, 'epoch_episode': 6, 'episode_step': 999, 'score': '38.150', 'eps': '0.100', 'elapsed': '87s'}\n",
      "2020-09-25 02:30:51,996 - drl - EPISODE - Train. - {'step': 297000, 'episode': 296, 'epoch': 29, 'epoch_step': 7000, 'epoch_episode': 7, 'episode_step': 999, 'score': '37.319', 'eps': '0.100', 'elapsed': '88s'}\n",
      "2020-09-25 02:32:19,067 - drl - EPISODE - Train. - {'step': 298000, 'episode': 297, 'epoch': 29, 'epoch_step': 8000, 'epoch_episode': 8, 'episode_step': 999, 'score': '37.892', 'eps': '0.100', 'elapsed': '87s'}\n",
      "2020-09-25 02:33:47,711 - drl - EPISODE - Train. - {'step': 299000, 'episode': 298, 'epoch': 29, 'epoch_step': 9000, 'epoch_episode': 9, 'episode_step': 999, 'score': '38.458', 'eps': '0.100', 'elapsed': '89s'}\n",
      "2020-09-25 02:35:15,629 - drl - EPISODE - Train. - {'step': 300000, 'episode': 299, 'epoch': 29, 'epoch_step': 10000, 'epoch_episode': 10, 'episode_step': 999, 'score': '36.873', 'eps': '0.100', 'elapsed': '88s'}\n",
      "2020-09-25 02:36:35,158 - drl - EPISODE - Validate. - {'epoch': 29, 'epoch_step': 1000, 'epoch_episode': 1, 'episode_step': 999, 'score': '39.179', 'eps': '0.100', 'elapsed': '80s'}\n",
      "2020-09-25 02:37:54,696 - drl - EPISODE - Validate. - {'epoch': 29, 'epoch_step': 2000, 'epoch_episode': 2, 'episode_step': 999, 'score': '39.291', 'eps': '0.100', 'elapsed': '80s'}\n",
      "2020-09-25 02:37:54,698 - drl - EPOCH - Epoch. - {'epoch': 29, 'mean score': 38.059379149306565, 'mean val score': 39.23524912302382, 'eps': '0.100', 'elapsed': '1036s'}\n"
     ]
    }
   ],
   "source": [
    "scores = experiment.train()"
   ]
  },
  {
   "cell_type": "markdown",
   "metadata": {},
   "source": [
    "## Analasys"
   ]
  },
  {
   "cell_type": "markdown",
   "metadata": {},
   "source": [
    "The project is solved in epoch 32 after playing 1088 episodes."
   ]
  },
  {
   "cell_type": "code",
   "execution_count": 12,
   "metadata": {},
   "outputs": [
    {
     "name": "stdout",
     "output_type": "stream",
     "text": [
      "Session ID: reacher-multiple-linux-20200924T1800\n"
     ]
    }
   ],
   "source": [
    "session_id = experiment.get_session_id()\n",
    "print(\"Session ID: {}\".format(session_id))"
   ]
  },
  {
   "cell_type": "code",
   "execution_count": 13,
   "metadata": {},
   "outputs": [],
   "source": [
    "session_id = \"reacher-multiple-linux-20200924T1800\"\n",
    "\n",
    "analyzer = Analyzer(config, session_id)"
   ]
  },
  {
   "cell_type": "code",
   "execution_count": 14,
   "metadata": {},
   "outputs": [],
   "source": [
    "experiments = [\n",
    "    '_experiments/train/reacher-multiple-linux-20200924T1800',\n",
    "]"
   ]
  },
  {
   "cell_type": "code",
   "execution_count": 15,
   "metadata": {},
   "outputs": [
    {
     "data": {
      "image/png": "[encoded data removed]",
      "text/plain": [
       "<Figure size 432x288 with 1 Axes>"
      ]
     },
     "metadata": {
      "needs_background": "light"
     },
     "output_type": "display_data"
    },
    {
     "data": {
      "image/png": "[encoded data removed]",
      "text/plain": [
       "<Figure size 432x288 with 1 Axes>"
      ]
     },
     "metadata": {
      "needs_background": "light"
     },
     "output_type": "display_data"
    }
   ],
   "source": [
    "analyzer.compare_train_epoch_cols(experiments, 'avg_score', True)\n",
    "analyzer.compare_train_epoch_cols(experiments, 'epsilon', True)"
   ]
  },
  {
   "cell_type": "markdown",
   "metadata": {},
   "source": [
    "## Stored Models"
   ]
  },
  {
   "cell_type": "code",
   "execution_count": 16,
   "metadata": {},
   "outputs": [],
   "source": [
    "#!ls _experiments/train/reacher-multiple-linux-20200924T1800"
   ]
  },
  {
   "cell_type": "markdown",
   "metadata": {},
   "source": [
    "## Play With a Trained Agent"
   ]
  },
  {
   "cell_type": "code",
   "execution_count": null,
   "metadata": {},
   "outputs": [
    {
     "name": "stdout",
     "output_type": "stream",
     "text": [
      "2020-09-25 06:30:26,686 - drl - INFO - Initializing environment.' - {'name': 'env/unity/linux/reacher-multiple-agent-novis/Reacher.x86_64'}\n"
     ]
    },
    {
     "name": "stderr",
     "output_type": "stream",
     "text": [
      "INFO:unityagents:\n",
      "'Academy' started successfully!\n",
      "Unity Academy name: Academy\n",
      "        Number of Brains: 1\n",
      "        Number of External Brains : 1\n",
      "        Lesson number : 0\n",
      "        Reset Parameters :\n",
      "\t\tgoal_speed -> 1.0\n",
      "\t\tgoal_size -> 5.0\n",
      "Unity brain name: ReacherBrain\n",
      "        Number of Visual Observations (per agent): 0\n",
      "        Vector Observation space type: continuous\n",
      "        Vector Observation space size (per agent): 33\n",
      "        Number of stacked Vector Observation: 1\n",
      "        Vector Action space type: continuous\n",
      "        Vector Action space size (per agent): 4\n",
      "        Vector Action descriptions: , , , \n"
     ]
    },
    {
     "name": "stdout",
     "output_type": "stream",
     "text": [
      "2020-09-25 06:31:49,377 - drl - EPISODE - Play. - {'episode': 0, 'score': '38.756', 'elapsed': '79.598s'}\n",
      "2020-09-25 06:33:09,030 - drl - EPISODE - Play. - {'episode': 1, 'score': '38.730', 'elapsed': '79.620s'}\n",
      "2020-09-25 06:34:28,665 - drl - EPISODE - Play. - {'episode': 2, 'score': '38.647', 'elapsed': '79.619s'}\n",
      "2020-09-25 06:35:48,301 - drl - EPISODE - Play. - {'episode': 3, 'score': '38.712', 'elapsed': '79.619s'}\n",
      "2020-09-25 06:37:07,941 - drl - EPISODE - Play. - {'episode': 4, 'score': '38.796', 'elapsed': '79.623s'}\n",
      "2020-09-25 06:38:27,576 - drl - EPISODE - Play. - {'episode': 5, 'score': '38.860', 'elapsed': '79.619s'}\n",
      "2020-09-25 06:39:47,230 - drl - EPISODE - Play. - {'episode': 6, 'score': '38.827', 'elapsed': '79.622s'}\n",
      "2020-09-25 06:41:06,868 - drl - EPISODE - Play. - {'episode': 7, 'score': '38.740', 'elapsed': '79.619s'}\n",
      "2020-09-25 06:42:26,502 - drl - EPISODE - Play. - {'episode': 8, 'score': '38.754', 'elapsed': '79.619s'}\n",
      "2020-09-25 06:43:46,138 - drl - EPISODE - Play. - {'episode': 9, 'score': '38.821', 'elapsed': '79.619s'}\n",
      "2020-09-25 06:45:05,774 - drl - EPISODE - Play. - {'episode': 10, 'score': '38.773', 'elapsed': '79.619s'}\n",
      "2020-09-25 06:46:25,428 - drl - EPISODE - Play. - {'episode': 11, 'score': '38.442', 'elapsed': '79.621s'}\n",
      "2020-09-25 06:47:45,063 - drl - EPISODE - Play. - {'episode': 12, 'score': '38.692', 'elapsed': '79.620s'}\n"
     ]
    }
   ],
   "source": [
    "scores, mean = experiment.play(\n",
    "    mode='train', # human, train\n",
    "    model='_experiments/train/reacher-multiple-linux-20200924T1800/reachermultiplelinux_current_actor_reacher-multiple-linux-20200924T1800_28_38.08_39.01_0.10.pth',\n",
    "    num_episodes=100)"
   ]
  },
  {
   "cell_type": "code",
   "execution_count": null,
   "metadata": {},
   "outputs": [],
   "source": [
    "print(\"Average score over {} episodes is {}\".format(len(scores), mean))"
   ]
  }
 ],
 "metadata": {
  "kernelspec": {
   "display_name": "Python 3",
   "language": "python",
   "name": "python3"
  },
  "language_info": {
   "codemirror_mode": {
    "name": "ipython",
    "version": 3
   },
   "file_extension": ".py",
   "mimetype": "text/x-python",
   "name": "python",
   "nbconvert_exporter": "python",
   "pygments_lexer": "ipython3",
   "version": "3.6.10"
  }
 },
 "nbformat": 4,
 "nbformat_minor": 4
}
