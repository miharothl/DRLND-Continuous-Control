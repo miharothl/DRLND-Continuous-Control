{
 "cells": [
  {
   "cell_type": "markdown",
   "metadata": {},
   "source": [
    "# Continuous Control"
   ]
  },
  {
   "cell_type": "code",
   "execution_count": 12,
   "metadata": {},
   "outputs": [],
   "source": [
    "%matplotlib inline\n",
    "\n",
    "from drl import drl_logger, EPOCH, EPISODE, STEP\n",
    "from drl.experiment.analyser import Analyzer\n",
    "from drl.experiment.configuration import Configuration\n",
    "from drl.experiment.experiment import Experiment\n",
    "from drl.experiment.config.experiment_config import ExperimentConfig\n",
    "from drl.experiment.explorer import Explorer\n",
    "from drl.logging import init_logging, set_logging_level, transform_verbose_count_to_logging_level"
   ]
  },
  {
   "cell_type": "code",
   "execution_count": 6,
   "metadata": {},
   "outputs": [],
   "source": [
    "init_logging(EPISODE)"
   ]
  },
  {
   "cell_type": "markdown",
   "metadata": {},
   "source": [
    "## Training Parameters"
   ]
  },
  {
   "cell_type": "code",
   "execution_count": 9,
   "metadata": {},
   "outputs": [],
   "source": [
    "config = Configuration()\n",
    "config.set_current_exp_cfg(\"reacher-multiple-linux\")"
   ]
  },
  {
   "cell_type": "markdown",
   "metadata": {},
   "source": [
    "### Agent"
   ]
  },
  {
   "cell_type": "code",
   "execution_count": 16,
   "metadata": {},
   "outputs": [
    {
     "name": "stdout",
     "output_type": "stream",
     "text": [
      "Action Size: 4\n",
      "State Size:  33\n"
     ]
    }
   ],
   "source": [
    "cfg = config.get_current_exp_cfg()\n",
    "\n",
    "print(\"Action Size: {}\".format(cfg.agent_cfg.action_size))\n",
    "print(\"State Size:  {}\".format(cfg.agent_cfg.state_size))"
   ]
  },
  {
   "cell_type": "markdown",
   "metadata": {},
   "source": [
    "### Hyper Parameters \n",
    "\n",
    "#### Epoch Configuration"
   ]
  },
  {
   "cell_type": "code",
   "execution_count": 18,
   "metadata": {},
   "outputs": [
    {
     "name": "stdout",
     "output_type": "stream",
     "text": [
      "Max Steps:            300000\n",
      "Max Episode Steps:    1000\n",
      "Evaluation Frequency: 10000\n",
      "Evaluation Steps:     1000\n"
     ]
    }
   ],
   "source": [
    "print(\"Max Steps:            {}\".format(cfg.trainer_cfg.max_steps))\n",
    "print(\"Max Episode Steps:    {}\".format(cfg.trainer_cfg.max_episode_steps))\n",
    "print(\"Evaluation Frequency: {}\".format(cfg.trainer_cfg.eval_frequency))\n",
    "print(\"Evaluation Steps:     {}\".format(cfg.trainer_cfg.eval_steps))"
   ]
  },
  {
   "cell_type": "markdown",
   "metadata": {},
   "source": [
    "One Epoch contains:\n",
    "\n",
    "* number of training episodes = evaluation frequency / max episode steps\n",
    "* number of validation episoded = evaluatin steps / max episode steps"
   ]
  },
  {
   "cell_type": "code",
   "execution_count": 19,
   "metadata": {},
   "outputs": [
    {
     "name": "stdout",
     "output_type": "stream",
     "text": [
      "Number of training episodes in epoch:   10\n",
      "Number of validation episodes in epoch: 1\n"
     ]
    }
   ],
   "source": [
    "print(\"Number of training episodes in epoch:   {}\".format(int(cfg.trainer_cfg.eval_frequency/cfg.trainer_cfg.max_episode_steps)))\n",
    "print(\"Number of validation episodes in epoch: {}\".format(int(cfg.trainer_cfg.eval_steps/cfg.trainer_cfg.max_episode_steps)))"
   ]
  },
  {
   "cell_type": "code",
   "execution_count": 33,
   "metadata": {},
   "outputs": [
    {
     "name": "stdout",
     "output_type": "stream",
     "text": [
      "RL Algorithm:         ddpg\n",
      "Epsilon Start:        1.0\n",
      "Epsilon End:          0.1\n",
      "Epsilon Decay:        0.97\n",
      "Actor Learning Rate:  0.0001\n",
      "Critic Learning Rate: 0.0003\n",
      "Weight Decay:         0\n"
     ]
    }
   ],
   "source": [
    "print(\"RL Algorithm:         {}\".format(cfg.reinforcement_learning_cfg.algorithm_type))\n",
    "print(\"Epsilon Start:        {}\".format(cfg.reinforcement_learning_cfg.ddpg_cfg.epsilon_start))\n",
    "print(\"Epsilon End:          {}\".format(cfg.reinforcement_learning_cfg.ddpg_cfg.epsilon_end))\n",
    "print(\"Epsilon Decay:        {}\".format(cfg.reinforcement_learning_cfg.ddpg_cfg.epsilon_decay))\n",
    "print(\"Actor Learning Rate:  {}\".format(cfg.reinforcement_learning_cfg.ddpg_cfg.lr_actor))\n",
    "print(\"Critic Learning Rate: {}\".format(cfg.reinforcement_learning_cfg.ddpg_cfg.lr_critic))\n",
    "print(\"Weight Decay:         {}\".format(cfg.reinforcement_learning_cfg.ddpg_cfg.weight_decay))"
   ]
  },
  {
   "cell_type": "markdown",
   "metadata": {},
   "source": [
    "#### Neural Network Configuration"
   ]
  },
  {
   "cell_type": "code",
   "execution_count": 38,
   "metadata": {},
   "outputs": [
    {
     "name": "stdout",
     "output_type": "stream",
     "text": [
      "Actor Hidden Layers Units:  [256, 128]\n",
      "Critic Hidden Layers Units: [256, 128]\n"
     ]
    }
   ],
   "source": [
    "print(\"Actor Hidden Layers Units:  {}\".format(cfg.reinforcement_learning_cfg.ddpg_cfg.actor_model_cfg.hidden_layers))\n",
    "print(\"Critic Hidden Layers Units: {}\".format(cfg.reinforcement_learning_cfg.ddpg_cfg.critic_model_cfg.hidden_layers))"
   ]
  },
  {
   "cell_type": "markdown",
   "metadata": {},
   "source": [
    "#### Replay Memory"
   ]
  },
  {
   "cell_type": "code",
   "execution_count": 42,
   "metadata": {},
   "outputs": [
    {
     "name": "stdout",
     "output_type": "stream",
     "text": [
      "Buffer Size:              100000\n",
      "Use Prioritized Replay:   False\n"
     ]
    }
   ],
   "source": [
    "print(\"Buffer Size:              {}\".format(cfg.replay_memory_cfg.buffer_size))\n",
    "print(\"Use Prioritized Replay:   {}\".format(cfg.replay_memory_cfg.prioritized_replay))"
   ]
  },
  {
   "cell_type": "markdown",
   "metadata": {},
   "source": [
    "## Training"
   ]
  },
  {
   "cell_type": "code",
   "execution_count": 43,
   "metadata": {},
   "outputs": [],
   "source": [
    "experiment = Experiment(config)"
   ]
  },
  {
   "cell_type": "code",
   "execution_count": 44,
   "metadata": {},
   "outputs": [
    {
     "name": "stdout",
     "output_type": "stream",
     "text": [
      "2020-09-24 06:08:30,574 - drl - INFO - Initializing environment.' - {'name': 'env/unity/linux/reacher-multiple-agent-novis/Reacher.x86_64'}\n"
     ]
    },
    {
     "name": "stderr",
     "output_type": "stream",
     "text": [
      "INFO:unityagents:\n",
      "'Academy' started successfully!\n",
      "Unity Academy name: Academy\n",
      "        Number of Brains: 1\n",
      "        Number of External Brains : 1\n",
      "        Lesson number : 0\n",
      "        Reset Parameters :\n",
      "\t\tgoal_speed -> 1.0\n",
      "\t\tgoal_size -> 5.0\n",
      "Unity brain name: ReacherBrain\n",
      "        Number of Visual Observations (per agent): 0\n",
      "        Vector Observation space type: continuous\n",
      "        Vector Observation space size (per agent): 33\n",
      "        Number of stacked Vector Observation: 1\n",
      "        Vector Action space type: continuous\n",
      "        Vector Action space size (per agent): 4\n",
      "        Vector Action descriptions: , , , \n"
     ]
    },
    {
     "name": "stdout",
     "output_type": "stream",
     "text": [
      "2020-09-24 06:09:56,399 - drl - EPISODE - Train. - {'step': 1000, 'episode': 0, 'epoch': 0, 'epoch_step': 1000, 'epoch_episode': 1, 'episode_step': 999, 'score': '0.472', 'eps': '1.000', 'elapsed': '86s'}\n"
     ]
    },
    {
     "ename": "KeyboardInterrupt",
     "evalue": "",
     "output_type": "error",
     "traceback": [
      "\u001b[0;31m---------------------------------------------------------------------------\u001b[0m",
      "\u001b[0;31mKeyboardInterrupt\u001b[0m                         Traceback (most recent call last)",
      "\u001b[0;32m<ipython-input-44-ef4f578da067>\u001b[0m in \u001b[0;36m<module>\u001b[0;34m\u001b[0m\n\u001b[0;32m----> 1\u001b[0;31m \u001b[0mscores\u001b[0m \u001b[0;34m=\u001b[0m \u001b[0mexperiment\u001b[0m\u001b[0;34m.\u001b[0m\u001b[0mtrain\u001b[0m\u001b[0;34m(\u001b[0m\u001b[0;34m)\u001b[0m\u001b[0;34m\u001b[0m\u001b[0;34m\u001b[0m\u001b[0m\n\u001b[0m",
      "\u001b[0;32m~/scm/r/hub/lab-drlnd-robot/drl/experiment/experiment.py\u001b[0m in \u001b[0;36mtrain\u001b[0;34m(self, model)\u001b[0m\n\u001b[1;32m     64\u001b[0m             \u001b[0mAgentFactory\u001b[0m\u001b[0;34m.\u001b[0m\u001b[0mcreate\u001b[0m\u001b[0;34m(\u001b[0m\u001b[0mself\u001b[0m\u001b[0;34m.\u001b[0m\u001b[0m__config\u001b[0m\u001b[0;34m)\u001b[0m\u001b[0;34m,\u001b[0m\u001b[0;34m\u001b[0m\u001b[0;34m\u001b[0m\u001b[0m\n\u001b[1;32m     65\u001b[0m             \u001b[0mEnvironmentFactory\u001b[0m\u001b[0;34m.\u001b[0m\u001b[0mcreate\u001b[0m\u001b[0;34m(\u001b[0m\u001b[0mself\u001b[0m\u001b[0;34m.\u001b[0m\u001b[0m__config\u001b[0m\u001b[0;34m)\u001b[0m\u001b[0;34m,\u001b[0m\u001b[0;34m\u001b[0m\u001b[0;34m\u001b[0m\u001b[0m\n\u001b[0;32m---> 66\u001b[0;31m             \u001b[0mmodel_filename\u001b[0m\u001b[0;34m=\u001b[0m\u001b[0mmodel\u001b[0m\u001b[0;34m\u001b[0m\u001b[0;34m\u001b[0m\u001b[0m\n\u001b[0m\u001b[1;32m     67\u001b[0m         )\n",
      "\u001b[0;32m~/scm/r/hub/lab-drlnd-robot/drl/experiment/train/master_trainer.py\u001b[0m in \u001b[0;36mtrain\u001b[0;34m(self, agent, env, model_filename)\u001b[0m\n\u001b[1;32m    140\u001b[0m                     \u001b[0maction\u001b[0m \u001b[0;34m-=\u001b[0m \u001b[0menv\u001b[0m\u001b[0;34m.\u001b[0m\u001b[0maction_offset\u001b[0m\u001b[0;34m(\u001b[0m\u001b[0;34m)\u001b[0m\u001b[0;34m\u001b[0m\u001b[0;34m\u001b[0m\u001b[0m\n\u001b[1;32m    141\u001b[0m \u001b[0;34m\u001b[0m\u001b[0m\n\u001b[0;32m--> 142\u001b[0;31m                     \u001b[0mpos_reward_ratio\u001b[0m\u001b[0;34m,\u001b[0m \u001b[0mneg_reward_ratio\u001b[0m\u001b[0;34m,\u001b[0m \u001b[0mloss\u001b[0m\u001b[0;34m,\u001b[0m \u001b[0mbeta\u001b[0m \u001b[0;34m=\u001b[0m \u001b[0magent\u001b[0m\u001b[0;34m.\u001b[0m\u001b[0mstep\u001b[0m\u001b[0;34m(\u001b[0m\u001b[0mstate\u001b[0m\u001b[0;34m,\u001b[0m \u001b[0maction\u001b[0m\u001b[0;34m,\u001b[0m \u001b[0mreward\u001b[0m\u001b[0;34m,\u001b[0m \u001b[0mnext_state\u001b[0m\u001b[0;34m,\u001b[0m \u001b[0mdone\u001b[0m\u001b[0;34m)\u001b[0m\u001b[0;34m\u001b[0m\u001b[0;34m\u001b[0m\u001b[0m\n\u001b[0m\u001b[1;32m    143\u001b[0m \u001b[0;34m\u001b[0m\u001b[0m\n\u001b[1;32m    144\u001b[0m                     \u001b[0;32mif\u001b[0m \u001b[0mloss\u001b[0m \u001b[0;32mis\u001b[0m \u001b[0;32mnot\u001b[0m \u001b[0;32mNone\u001b[0m\u001b[0;34m:\u001b[0m\u001b[0;34m\u001b[0m\u001b[0;34m\u001b[0m\u001b[0m\n",
      "\u001b[0;32m~/scm/r/hub/lab-drlnd-robot/drl/agent/ddpg_agent.py\u001b[0m in \u001b[0;36mstep\u001b[0;34m(self, state, action, reward, next_state, done)\u001b[0m\n\u001b[1;32m    172\u001b[0m                         \u001b[0mexp\u001b[0m \u001b[0;34m=\u001b[0m \u001b[0;34m(\u001b[0m\u001b[0mobses_t\u001b[0m\u001b[0;34m,\u001b[0m \u001b[0mactions\u001b[0m\u001b[0;34m,\u001b[0m \u001b[0mrewards\u001b[0m\u001b[0;34m,\u001b[0m \u001b[0mobses_tp1\u001b[0m\u001b[0;34m,\u001b[0m \u001b[0mdones\u001b[0m\u001b[0;34m,\u001b[0m \u001b[0mweights\u001b[0m\u001b[0;34m)\u001b[0m\u001b[0;34m\u001b[0m\u001b[0;34m\u001b[0m\u001b[0m\n\u001b[1;32m    173\u001b[0m \u001b[0;34m\u001b[0m\u001b[0m\n\u001b[0;32m--> 174\u001b[0;31m                     \u001b[0mpos_reward_ratio\u001b[0m\u001b[0;34m,\u001b[0m \u001b[0mneg_reward_ratio\u001b[0m\u001b[0;34m,\u001b[0m \u001b[0mloss\u001b[0m\u001b[0;34m,\u001b[0m \u001b[0mtd_error\u001b[0m \u001b[0;34m=\u001b[0m \u001b[0mself\u001b[0m\u001b[0;34m.\u001b[0m\u001b[0mlearn\u001b[0m\u001b[0;34m(\u001b[0m\u001b[0mexp\u001b[0m\u001b[0;34m,\u001b[0m \u001b[0mself\u001b[0m\u001b[0;34m.\u001b[0m\u001b[0mtrainer_cfg\u001b[0m\u001b[0;34m.\u001b[0m\u001b[0mgamma\u001b[0m\u001b[0;34m)\u001b[0m\u001b[0;34m\u001b[0m\u001b[0;34m\u001b[0m\u001b[0m\n\u001b[0m\u001b[1;32m    175\u001b[0m \u001b[0;34m\u001b[0m\u001b[0m\n\u001b[1;32m    176\u001b[0m                     \u001b[0;32mif\u001b[0m \u001b[0mself\u001b[0m\u001b[0;34m.\u001b[0m\u001b[0mreplay_memory_cfg\u001b[0m\u001b[0;34m.\u001b[0m\u001b[0mprioritized_replay\u001b[0m\u001b[0;34m:\u001b[0m\u001b[0;34m\u001b[0m\u001b[0;34m\u001b[0m\u001b[0m\n",
      "\u001b[0;32m~/scm/r/hub/lab-drlnd-robot/drl/agent/ddpg_agent.py\u001b[0m in \u001b[0;36mlearn\u001b[0;34m(self, experiences, gamma)\u001b[0m\n\u001b[1;32m    129\u001b[0m         \u001b[0;31m# Minimize the loss\u001b[0m\u001b[0;34m\u001b[0m\u001b[0;34m\u001b[0m\u001b[0;34m\u001b[0m\u001b[0m\n\u001b[1;32m    130\u001b[0m         \u001b[0mself\u001b[0m\u001b[0;34m.\u001b[0m\u001b[0mactor_optimizer\u001b[0m\u001b[0;34m.\u001b[0m\u001b[0mzero_grad\u001b[0m\u001b[0;34m(\u001b[0m\u001b[0;34m)\u001b[0m\u001b[0;34m\u001b[0m\u001b[0;34m\u001b[0m\u001b[0m\n\u001b[0;32m--> 131\u001b[0;31m         \u001b[0mactor_loss\u001b[0m\u001b[0;34m.\u001b[0m\u001b[0mbackward\u001b[0m\u001b[0;34m(\u001b[0m\u001b[0;34m)\u001b[0m\u001b[0;34m\u001b[0m\u001b[0;34m\u001b[0m\u001b[0m\n\u001b[0m\u001b[1;32m    132\u001b[0m         \u001b[0mself\u001b[0m\u001b[0;34m.\u001b[0m\u001b[0mactor_optimizer\u001b[0m\u001b[0;34m.\u001b[0m\u001b[0mstep\u001b[0m\u001b[0;34m(\u001b[0m\u001b[0;34m)\u001b[0m\u001b[0;34m\u001b[0m\u001b[0;34m\u001b[0m\u001b[0m\n\u001b[1;32m    133\u001b[0m \u001b[0;34m\u001b[0m\u001b[0m\n",
      "\u001b[0;32m~/anaconda3/envs/drlnd/lib/python3.6/site-packages/torch/tensor.py\u001b[0m in \u001b[0;36mbackward\u001b[0;34m(self, gradient, retain_graph, create_graph)\u001b[0m\n\u001b[1;32m     91\u001b[0m                 \u001b[0mproducts\u001b[0m\u001b[0;34m.\u001b[0m \u001b[0mDefaults\u001b[0m \u001b[0mto\u001b[0m\u001b[0;31m \u001b[0m\u001b[0;31m`\u001b[0m\u001b[0;31m`\u001b[0m\u001b[0;32mFalse\u001b[0m\u001b[0;31m`\u001b[0m\u001b[0;31m`\u001b[0m\u001b[0;34m.\u001b[0m\u001b[0;34m\u001b[0m\u001b[0;34m\u001b[0m\u001b[0m\n\u001b[1;32m     92\u001b[0m         \"\"\"\n\u001b[0;32m---> 93\u001b[0;31m         \u001b[0mtorch\u001b[0m\u001b[0;34m.\u001b[0m\u001b[0mautograd\u001b[0m\u001b[0;34m.\u001b[0m\u001b[0mbackward\u001b[0m\u001b[0;34m(\u001b[0m\u001b[0mself\u001b[0m\u001b[0;34m,\u001b[0m \u001b[0mgradient\u001b[0m\u001b[0;34m,\u001b[0m \u001b[0mretain_graph\u001b[0m\u001b[0;34m,\u001b[0m \u001b[0mcreate_graph\u001b[0m\u001b[0;34m)\u001b[0m\u001b[0;34m\u001b[0m\u001b[0;34m\u001b[0m\u001b[0m\n\u001b[0m\u001b[1;32m     94\u001b[0m \u001b[0;34m\u001b[0m\u001b[0m\n\u001b[1;32m     95\u001b[0m     \u001b[0;32mdef\u001b[0m \u001b[0mregister_hook\u001b[0m\u001b[0;34m(\u001b[0m\u001b[0mself\u001b[0m\u001b[0;34m,\u001b[0m \u001b[0mhook\u001b[0m\u001b[0;34m)\u001b[0m\u001b[0;34m:\u001b[0m\u001b[0;34m\u001b[0m\u001b[0;34m\u001b[0m\u001b[0m\n",
      "\u001b[0;32m~/anaconda3/envs/drlnd/lib/python3.6/site-packages/torch/autograd/__init__.py\u001b[0m in \u001b[0;36mbackward\u001b[0;34m(tensors, grad_tensors, retain_graph, create_graph, grad_variables)\u001b[0m\n\u001b[1;32m     87\u001b[0m     Variable._execution_engine.run_backward(\n\u001b[1;32m     88\u001b[0m         \u001b[0mtensors\u001b[0m\u001b[0;34m,\u001b[0m \u001b[0mgrad_tensors\u001b[0m\u001b[0;34m,\u001b[0m \u001b[0mretain_graph\u001b[0m\u001b[0;34m,\u001b[0m \u001b[0mcreate_graph\u001b[0m\u001b[0;34m,\u001b[0m\u001b[0;34m\u001b[0m\u001b[0;34m\u001b[0m\u001b[0m\n\u001b[0;32m---> 89\u001b[0;31m         allow_unreachable=True)  # allow_unreachable flag\n\u001b[0m\u001b[1;32m     90\u001b[0m \u001b[0;34m\u001b[0m\u001b[0m\n\u001b[1;32m     91\u001b[0m \u001b[0;34m\u001b[0m\u001b[0m\n",
      "\u001b[0;31mKeyboardInterrupt\u001b[0m: "
     ]
    }
   ],
   "source": [
    "scores = experiment.train()"
   ]
  },
  {
   "cell_type": "markdown",
   "metadata": {},
   "source": [
    "## Analasys"
   ]
  },
  {
   "cell_type": "markdown",
   "metadata": {},
   "source": [
    "The project is solved in epoch 32 after playing 1088 episodes."
   ]
  },
  {
   "cell_type": "code",
   "execution_count": 45,
   "metadata": {},
   "outputs": [
    {
     "name": "stdout",
     "output_type": "stream",
     "text": [
      "Session ID: reacher-multiple-linux-20200924T0608\n"
     ]
    }
   ],
   "source": [
    "session_id = experiment.get_session_id()\n",
    "print(\"Session ID: {}\".format(session_id))"
   ]
  },
  {
   "cell_type": "code",
   "execution_count": 46,
   "metadata": {},
   "outputs": [],
   "source": [
    "session_id = \"reacher-multiple-linux-20200923T1900\"\n",
    "\n",
    "analyzer = Analyzer(config, session_id)"
   ]
  },
  {
   "cell_type": "code",
   "execution_count": 47,
   "metadata": {},
   "outputs": [],
   "source": [
    "experiments = [\n",
    "    '_experiments/train/reacher-multiple-linux-20200923T1900',\n",
    "]"
   ]
  },
  {
   "cell_type": "code",
   "execution_count": 48,
   "metadata": {},
   "outputs": [
    {
     "data": {
      "image/png": "[encoded data removed]",
      "text/plain": [
       "<Figure size 432x288 with 1 Axes>"
      ]
     },
     "metadata": {
      "needs_background": "light"
     },
     "output_type": "display_data"
    },
    {
     "data": {
      "image/png": "[encoded data removed]",
      "text/plain": [
       "<Figure size 432x288 with 1 Axes>"
      ]
     },
     "metadata": {
      "needs_background": "light"
     },
     "output_type": "display_data"
    }
   ],
   "source": [
    "analyzer.compare_train_epoch_cols(experiments, 'avg_score', True)\n",
    "analyzer.compare_train_epoch_cols(experiments, 'epsilon', True)"
   ]
  },
  {
   "cell_type": "markdown",
   "metadata": {},
   "source": [
    "## Stored Models"
   ]
  },
  {
   "cell_type": "code",
   "execution_count": 49,
   "metadata": {},
   "outputs": [
    {
     "name": "stdout",
     "output_type": "stream",
     "text": [
      "config.json\n",
      "episode-log.csv\n",
      "epoch-log.csv\n",
      "reachermultiplelinux_current_actor_reacher-multiple-linux-20200923T1900_0_2.06_nan_0.74.pth\n",
      "reachermultiplelinux_current_actor_reacher-multiple-linux-20200923T1900_10_31.47_nan_0.10.pth\n",
      "reachermultiplelinux_current_actor_reacher-multiple-linux-20200923T1900_11_34.42_nan_0.10.pth\n",
      "reachermultiplelinux_current_actor_reacher-multiple-linux-20200923T1900_12_36.28_nan_0.10.pth\n",
      "reachermultiplelinux_current_actor_reacher-multiple-linux-20200923T1900_13_36.89_nan_0.10.pth\n",
      "reachermultiplelinux_current_actor_reacher-multiple-linux-20200923T1900_14_37.17_nan_0.10.pth\n",
      "reachermultiplelinux_current_actor_reacher-multiple-linux-20200923T1900_1_4.88_nan_0.54.pth\n",
      "reachermultiplelinux_current_actor_reacher-multiple-linux-20200923T1900_15_37.40_nan_0.10.pth\n",
      "reachermultiplelinux_current_actor_reacher-multiple-linux-20200923T1900_16_37.48_nan_0.10.pth\n",
      "reachermultiplelinux_current_actor_reacher-multiple-linux-20200923T1900_17_37.49_nan_0.10.pth\n",
      "reachermultiplelinux_current_actor_reacher-multiple-linux-20200923T1900_18_37.59_nan_0.10.pth\n",
      "reachermultiplelinux_current_actor_reacher-multiple-linux-20200923T1900_19_37.58_nan_0.10.pth\n",
      "reachermultiplelinux_current_actor_reacher-multiple-linux-20200923T1900_20_37.68_nan_0.10.pth\n",
      "reachermultiplelinux_current_actor_reacher-multiple-linux-20200923T1900_21_37.80_nan_0.10.pth\n",
      "reachermultiplelinux_current_actor_reacher-multiple-linux-20200923T1900_22_37.82_nan_0.10.pth\n",
      "reachermultiplelinux_current_actor_reacher-multiple-linux-20200923T1900_23_37.98_nan_0.10.pth\n",
      "reachermultiplelinux_current_actor_reacher-multiple-linux-20200923T1900_24_38.07_nan_0.10.pth\n",
      "reachermultiplelinux_current_actor_reacher-multiple-linux-20200923T1900_25_38.07_nan_0.10.pth\n",
      "reachermultiplelinux_current_actor_reacher-multiple-linux-20200923T1900_26_38.13_nan_0.10.pth\n",
      "reachermultiplelinux_current_actor_reacher-multiple-linux-20200923T1900_27_38.27_nan_0.10.pth\n",
      "reachermultiplelinux_current_actor_reacher-multiple-linux-20200923T1900_28_38.37_nan_0.10.pth\n",
      "reachermultiplelinux_current_actor_reacher-multiple-linux-20200923T1900_29_38.38_nan_0.10.pth\n",
      "reachermultiplelinux_current_actor_reacher-multiple-linux-20200923T1900_2_9.55_nan_0.40.pth\n",
      "reachermultiplelinux_current_actor_reacher-multiple-linux-20200923T1900_3_14.93_nan_0.30.pth\n",
      "reachermultiplelinux_current_actor_reacher-multiple-linux-20200923T1900_4_18.94_nan_0.22.pth\n",
      "reachermultiplelinux_current_actor_reacher-multiple-linux-20200923T1900_5_21.75_nan_0.16.pth\n",
      "reachermultiplelinux_current_actor_reacher-multiple-linux-20200923T1900_6_23.91_nan_0.12.pth\n",
      "reachermultiplelinux_current_actor_reacher-multiple-linux-20200923T1900_7_25.55_nan_0.10.pth\n",
      "reachermultiplelinux_current_actor_reacher-multiple-linux-20200923T1900_8_26.80_nan_0.10.pth\n",
      "reachermultiplelinux_current_actor_reacher-multiple-linux-20200923T1900_9_27.92_nan_0.10.pth\n",
      "reachermultiplelinux_current_critic_reacher-multiple-linux-20200923T1900_0_2.06_nan_0.74.pth\n",
      "reachermultiplelinux_current_critic_reacher-multiple-linux-20200923T1900_10_31.47_nan_0.10.pth\n",
      "reachermultiplelinux_current_critic_reacher-multiple-linux-20200923T1900_11_34.42_nan_0.10.pth\n",
      "reachermultiplelinux_current_critic_reacher-multiple-linux-20200923T1900_12_36.28_nan_0.10.pth\n",
      "reachermultiplelinux_current_critic_reacher-multiple-linux-20200923T1900_13_36.89_nan_0.10.pth\n",
      "reachermultiplelinux_current_critic_reacher-multiple-linux-20200923T1900_14_37.17_nan_0.10.pth\n",
      "reachermultiplelinux_current_critic_reacher-multiple-linux-20200923T1900_1_4.88_nan_0.54.pth\n",
      "reachermultiplelinux_current_critic_reacher-multiple-linux-20200923T1900_15_37.40_nan_0.10.pth\n",
      "reachermultiplelinux_current_critic_reacher-multiple-linux-20200923T1900_16_37.48_nan_0.10.pth\n",
      "reachermultiplelinux_current_critic_reacher-multiple-linux-20200923T1900_17_37.49_nan_0.10.pth\n",
      "reachermultiplelinux_current_critic_reacher-multiple-linux-20200923T1900_18_37.59_nan_0.10.pth\n",
      "reachermultiplelinux_current_critic_reacher-multiple-linux-20200923T1900_19_37.58_nan_0.10.pth\n",
      "reachermultiplelinux_current_critic_reacher-multiple-linux-20200923T1900_20_37.68_nan_0.10.pth\n",
      "reachermultiplelinux_current_critic_reacher-multiple-linux-20200923T1900_21_37.80_nan_0.10.pth\n",
      "reachermultiplelinux_current_critic_reacher-multiple-linux-20200923T1900_22_37.82_nan_0.10.pth\n",
      "reachermultiplelinux_current_critic_reacher-multiple-linux-20200923T1900_23_37.98_nan_0.10.pth\n",
      "reachermultiplelinux_current_critic_reacher-multiple-linux-20200923T1900_24_38.07_nan_0.10.pth\n",
      "reachermultiplelinux_current_critic_reacher-multiple-linux-20200923T1900_25_38.07_nan_0.10.pth\n",
      "reachermultiplelinux_current_critic_reacher-multiple-linux-20200923T1900_26_38.13_nan_0.10.pth\n",
      "reachermultiplelinux_current_critic_reacher-multiple-linux-20200923T1900_27_38.27_nan_0.10.pth\n",
      "reachermultiplelinux_current_critic_reacher-multiple-linux-20200923T1900_28_38.37_nan_0.10.pth\n",
      "reachermultiplelinux_current_critic_reacher-multiple-linux-20200923T1900_29_38.38_nan_0.10.pth\n",
      "reachermultiplelinux_current_critic_reacher-multiple-linux-20200923T1900_2_9.55_nan_0.40.pth\n",
      "reachermultiplelinux_current_critic_reacher-multiple-linux-20200923T1900_3_14.93_nan_0.30.pth\n",
      "reachermultiplelinux_current_critic_reacher-multiple-linux-20200923T1900_4_18.94_nan_0.22.pth\n",
      "reachermultiplelinux_current_critic_reacher-multiple-linux-20200923T1900_5_21.75_nan_0.16.pth\n",
      "reachermultiplelinux_current_critic_reacher-multiple-linux-20200923T1900_6_23.91_nan_0.12.pth\n",
      "reachermultiplelinux_current_critic_reacher-multiple-linux-20200923T1900_7_25.55_nan_0.10.pth\n",
      "reachermultiplelinux_current_critic_reacher-multiple-linux-20200923T1900_8_26.80_nan_0.10.pth\n",
      "reachermultiplelinux_current_critic_reacher-multiple-linux-20200923T1900_9_27.92_nan_0.10.pth\n"
     ]
    }
   ],
   "source": [
    "!ls _experiments/train/reacher-multiple-linux-20200923T1900"
   ]
  },
  {
   "cell_type": "markdown",
   "metadata": {},
   "source": [
    "## Play With a Trained Agent"
   ]
  },
  {
   "cell_type": "code",
   "execution_count": 17,
   "metadata": {},
   "outputs": [
    {
     "name": "stderr",
     "output_type": "stream",
     "text": [
      "INFO:unityagents:\n",
      "'Academy' started successfully!\n",
      "Unity Academy name: Academy\n",
      "        Number of Brains: 1\n",
      "        Number of External Brains : 1\n",
      "        Lesson number : 0\n",
      "        Reset Parameters :\n",
      "\t\t\n",
      "Unity brain name: BananaBrain\n",
      "        Number of Visual Observations (per agent): 0\n",
      "        Vector Observation space type: continuous\n",
      "        Vector Observation space size (per agent): 37\n",
      "        Number of stacked Vector Observation: 1\n",
      "        Vector Action space type: discrete\n",
      "        Vector Action space size (per agent): 4\n",
      "        Vector Action descriptions: , , , \n"
     ]
    },
    {
     "name": "stdout",
     "output_type": "stream",
     "text": [
      "2020-08-12 07:07:24,896 - unityagents - INFO - \n",
      "'Academy' started successfully!\n",
      "Unity Academy name: Academy\n",
      "        Number of Brains: 1\n",
      "        Number of External Brains : 1\n",
      "        Lesson number : 0\n",
      "        Reset Parameters :\n",
      "\t\t\n",
      "Unity brain name: BananaBrain\n",
      "        Number of Visual Observations (per agent): 0\n",
      "        Vector Observation space type: continuous\n",
      "        Vector Observation space size (per agent): 37\n",
      "        Number of stacked Vector Observation: 1\n",
      "        Vector Action space type: discrete\n",
      "        Vector Action space size (per agent): 4\n",
      "        Vector Action descriptions: , , , \n"
     ]
    }
   ],
   "source": [
    "scores, mean = experiment.play(\n",
    "    mode='train', # human, train\n",
    "    model='_experiments/train/banana-20200812T0605/banana_banana-20200812T0605_58_16.52_16.33_0.01.pth',\n",
    "    num_episodes=100)"
   ]
  },
  {
   "cell_type": "code",
   "execution_count": 18,
   "metadata": {},
   "outputs": [
    {
     "name": "stdout",
     "output_type": "stream",
     "text": [
      "Average score over 100 episodes is 16.51\n"
     ]
    }
   ],
   "source": [
    "print(\"Average score over {} episodes is {}\".format(len(scores), mean))"
   ]
  }
 ],
 "metadata": {
  "kernelspec": {
   "display_name": "Python 3",
   "language": "python",
   "name": "python3"
  },
  "language_info": {
   "codemirror_mode": {
    "name": "ipython",
    "version": 3
   },
   "file_extension": ".py",
   "mimetype": "text/x-python",
   "name": "python",
   "nbconvert_exporter": "python",
   "pygments_lexer": "ipython3",
   "version": "3.6.10"
  }
 },
 "nbformat": 4,
 "nbformat_minor": 4
}
